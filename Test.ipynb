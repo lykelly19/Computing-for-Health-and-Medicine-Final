{
 "cells": [
  {
   "cell_type": "markdown",
   "id": "ce12a754",
   "metadata": {},
   "source": [
    "# Diabetic Retinopathy Detection: Identify Severity of Diabetic Retinopathy in Eye Images\n",
    "\n",
    "University of Massachusetts Lowell   \n",
    "COMP.5300/COMP.4600 Computing in Health and Medicine  \n",
    "Dr. Wenjin Zhou  \n",
    "Brent Garey, Kelly Ly, Ann Men, Bishoy Sargius, and William Zouzas  \n",
    "Due April 26, 2022  "
   ]
  },
  {
   "cell_type": "markdown",
   "id": "d9200f78",
   "metadata": {},
   "source": [
    "## Read in Labels"
   ]
  },
  {
   "cell_type": "code",
   "execution_count": 1,
   "id": "863a23c5",
   "metadata": {},
   "outputs": [],
   "source": [
    "# Import libraries\n",
    "import matplotlib.pyplot as plt\n",
    "import pandas as pd"
   ]
  },
  {
   "cell_type": "code",
   "execution_count": 3,
   "id": "79f16b59",
   "metadata": {},
   "outputs": [
    {
     "data": {
      "text/html": [
       "<div>\n",
       "<style scoped>\n",
       "    .dataframe tbody tr th:only-of-type {\n",
       "        vertical-align: middle;\n",
       "    }\n",
       "\n",
       "    .dataframe tbody tr th {\n",
       "        vertical-align: top;\n",
       "    }\n",
       "\n",
       "    .dataframe thead th {\n",
       "        text-align: right;\n",
       "    }\n",
       "</style>\n",
       "<table border=\"1\" class=\"dataframe\">\n",
       "  <thead>\n",
       "    <tr style=\"text-align: right;\">\n",
       "      <th></th>\n",
       "      <th>image</th>\n",
       "      <th>level</th>\n",
       "    </tr>\n",
       "  </thead>\n",
       "  <tbody>\n",
       "    <tr>\n",
       "      <th>0</th>\n",
       "      <td>10_left</td>\n",
       "      <td>0</td>\n",
       "    </tr>\n",
       "    <tr>\n",
       "      <th>1</th>\n",
       "      <td>10_right</td>\n",
       "      <td>0</td>\n",
       "    </tr>\n",
       "    <tr>\n",
       "      <th>2</th>\n",
       "      <td>13_left</td>\n",
       "      <td>0</td>\n",
       "    </tr>\n",
       "    <tr>\n",
       "      <th>3</th>\n",
       "      <td>13_right</td>\n",
       "      <td>0</td>\n",
       "    </tr>\n",
       "    <tr>\n",
       "      <th>4</th>\n",
       "      <td>15_left</td>\n",
       "      <td>1</td>\n",
       "    </tr>\n",
       "    <tr>\n",
       "      <th>...</th>\n",
       "      <td>...</td>\n",
       "      <td>...</td>\n",
       "    </tr>\n",
       "    <tr>\n",
       "      <th>35121</th>\n",
       "      <td>44347_right</td>\n",
       "      <td>0</td>\n",
       "    </tr>\n",
       "    <tr>\n",
       "      <th>35122</th>\n",
       "      <td>44348_left</td>\n",
       "      <td>0</td>\n",
       "    </tr>\n",
       "    <tr>\n",
       "      <th>35123</th>\n",
       "      <td>44348_right</td>\n",
       "      <td>0</td>\n",
       "    </tr>\n",
       "    <tr>\n",
       "      <th>35124</th>\n",
       "      <td>44349_left</td>\n",
       "      <td>0</td>\n",
       "    </tr>\n",
       "    <tr>\n",
       "      <th>35125</th>\n",
       "      <td>44349_right</td>\n",
       "      <td>1</td>\n",
       "    </tr>\n",
       "  </tbody>\n",
       "</table>\n",
       "<p>35126 rows × 2 columns</p>\n",
       "</div>"
      ],
      "text/plain": [
       "             image  level\n",
       "0          10_left      0\n",
       "1         10_right      0\n",
       "2          13_left      0\n",
       "3         13_right      0\n",
       "4          15_left      1\n",
       "...            ...    ...\n",
       "35121  44347_right      0\n",
       "35122   44348_left      0\n",
       "35123  44348_right      0\n",
       "35124   44349_left      0\n",
       "35125  44349_right      1\n",
       "\n",
       "[35126 rows x 2 columns]"
      ]
     },
     "execution_count": 3,
     "metadata": {},
     "output_type": "execute_result"
    }
   ],
   "source": [
    "# Read csv file\n",
    "df_labels = pd.read_csv(\"data/trainLabels.csv\")\n",
    "\n",
    "#Display metadata\n",
    "df_labels"
   ]
  },
  {
   "cell_type": "markdown",
   "id": "5e0ab217",
   "metadata": {},
   "source": [
    "## Visualize Level Distribution"
   ]
  },
  {
   "cell_type": "code",
   "execution_count": 5,
   "id": "af6cb0d9",
   "metadata": {
    "scrolled": true
   },
   "outputs": [
    {
     "data": {
      "text/plain": [
       "Text(0.5, 1.0, 'Distribution of Diabetic Retinopathy Levels (0-4)')"
      ]
     },
     "execution_count": 5,
     "metadata": {},
     "output_type": "execute_result"
    },
    {
     "data": {
      "image/png": "[encoded data removed]",
      "text/plain": [
       "<Figure size 432x288 with 1 Axes>"
      ]
     },
     "metadata": {
      "needs_background": "light"
     },
     "output_type": "display_data"
    }
   ],
   "source": [
    "# Import Seaborn library\n",
    "# Source: https://www.geeksforgeeks.org/countplot-using-seaborn-in-python/\n",
    "import seaborn as sns\n",
    "  \n",
    "# count plot on single categorical variable\n",
    "sns.countplot(x = df_labels['level'])\n",
    " \n",
    "# Show the plot\n",
    "plt.title('Distribution of Diabetic Retinopathy Levels (0-4)')"
   ]
  },
  {
   "cell_type": "markdown",
   "id": "4fc3ed69",
   "metadata": {},
   "source": [
    "## Create and Organize Data Folders"
   ]
  },
  {
   "cell_type": "code",
   "execution_count": 9,
   "id": "f88d1e58",
   "metadata": {},
   "outputs": [],
   "source": [
    "# Import os library\n",
    "import os"
   ]
  },
  {
   "cell_type": "code",
   "execution_count": 10,
   "id": "3ecbbf5a",
   "metadata": {},
   "outputs": [],
   "source": [
    "# Make new folder to hold labeled data\n",
    "os.mkdir('./data/labeled_data')"
   ]
  },
  {
   "cell_type": "code",
   "execution_count": 11,
   "id": "a348bebd",
   "metadata": {},
   "outputs": [],
   "source": [
    "# Create subfolders for each level\n",
    "for i in range(5):\n",
    "    os.mkdir('./data/labeled_data/' + str(i))"
   ]
  },
  {
   "cell_type": "markdown",
   "id": "9c357973",
   "metadata": {},
   "source": [
    "## Visualize Sample Eye Images"
   ]
  },
  {
   "cell_type": "code",
   "execution_count": 8,
   "id": "46eb25d5",
   "metadata": {},
   "outputs": [
    {
     "data": {
      "text/plain": [
       "numpy.int64"
      ]
     },
     "execution_count": 8,
     "metadata": {},
     "output_type": "execute_result"
    }
   ],
   "source": [
    "# What is the data type of the levels? (0-4) Strings or integers?\n",
    "type(df_labels['level'][0])"
   ]
  },
  {
   "cell_type": "code",
   "execution_count": null,
   "id": "fe8d5622",
   "metadata": {},
   "outputs": [],
   "source": [
    "# Iterate \n",
    "for i in range"
   ]
  }
 ],
 "metadata": {
  "colab": {
   "name": "Test.ipynb",
   "provenance": [],
   "toc_visible": true
  },
  "kernelspec": {
   "display_name": "Python 3 (ipykernel)",
   "language": "python",
   "name": "python3"
  },
  "language_info": {
   "codemirror_mode": {
    "name": "ipython",
    "version": 3
   },
   "file_extension": ".py",
   "mimetype": "text/x-python",
   "name": "python",
   "nbconvert_exporter": "python",
   "pygments_lexer": "ipython3",
   "version": "3.9.7"
  }
 },
 "nbformat": 4,
 "nbformat_minor": 5
}
