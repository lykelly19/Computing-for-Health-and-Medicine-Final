{
 "cells": [
  {
   "cell_type": "markdown",
   "id": "1e88a746",
   "metadata": {},
   "source": [
    "# Diabetic Retinopathy Detection: Identify Severity of Diabetic Retinopathy in Eye Images\n",
    "\n",
    "University of Massachusetts Lowell   \n",
    "COMP.5300/COMP.4600 Computing in Health and Medicine  \n",
    "Dr. Wenjin Zhou  \n",
    "Brent Garey, Kelly Ly, Ann Men, Bishoy Sargius, and William Zouzas  \n",
    "Due April 26, 2022  "
   ]
  },
  {
   "cell_type": "markdown",
   "id": "d24d07af-11da-4e09-a1be-4b41c1450636",
   "metadata": {},
   "source": [
    "<h1>Git Commands</h1>\n",
    "<h5>Adds changes of the code to our github repo</h5>\n",
    "git add .<br>\n",
    "git commit -m \"some message\"<br>\n",
    "git push<br>\n",
    "\n",
    "<h5>Prints out what happened with the code worked on and github</h5>\n",
    "git status<br>\n",
    "\n",
    "<h5>Downloads the files from the github repo</h5>\n",
    "git pull<br>"
   ]
  },
  {
   "cell_type": "markdown",
   "id": "808cb193",
   "metadata": {},
   "source": [
    "## Read in Labels"
   ]
  },
  {
   "cell_type": "code",
   "execution_count": 3,
   "id": "7e237e78",
   "metadata": {},
   "outputs": [],
   "source": [
    "# Import libraries\n",
    "import matplotlib.pyplot as plt\n",
    "import pandas as pd\n",
    "from PIL import Image\n",
    "import os"
   ]
  },
  {
   "cell_type": "code",
   "execution_count": 4,
   "id": "63ede9d3",
   "metadata": {},
   "outputs": [
    {
     "data": {
      "text/html": [
       "<div>\n",
       "<style scoped>\n",
       "    .dataframe tbody tr th:only-of-type {\n",
       "        vertical-align: middle;\n",
       "    }\n",
       "\n",
       "    .dataframe tbody tr th {\n",
       "        vertical-align: top;\n",
       "    }\n",
       "\n",
       "    .dataframe thead th {\n",
       "        text-align: right;\n",
       "    }\n",
       "</style>\n",
       "<table border=\"1\" class=\"dataframe\">\n",
       "  <thead>\n",
       "    <tr style=\"text-align: right;\">\n",
       "      <th></th>\n",
       "      <th>image</th>\n",
       "      <th>level</th>\n",
       "    </tr>\n",
       "  </thead>\n",
       "  <tbody>\n",
       "    <tr>\n",
       "      <th>0</th>\n",
       "      <td>10_left</td>\n",
       "      <td>0</td>\n",
       "    </tr>\n",
       "    <tr>\n",
       "      <th>1</th>\n",
       "      <td>10_right</td>\n",
       "      <td>0</td>\n",
       "    </tr>\n",
       "    <tr>\n",
       "      <th>2</th>\n",
       "      <td>13_left</td>\n",
       "      <td>0</td>\n",
       "    </tr>\n",
       "    <tr>\n",
       "      <th>3</th>\n",
       "      <td>13_right</td>\n",
       "      <td>0</td>\n",
       "    </tr>\n",
       "    <tr>\n",
       "      <th>4</th>\n",
       "      <td>15_left</td>\n",
       "      <td>1</td>\n",
       "    </tr>\n",
       "    <tr>\n",
       "      <th>...</th>\n",
       "      <td>...</td>\n",
       "      <td>...</td>\n",
       "    </tr>\n",
       "    <tr>\n",
       "      <th>35121</th>\n",
       "      <td>44347_right</td>\n",
       "      <td>0</td>\n",
       "    </tr>\n",
       "    <tr>\n",
       "      <th>35122</th>\n",
       "      <td>44348_left</td>\n",
       "      <td>0</td>\n",
       "    </tr>\n",
       "    <tr>\n",
       "      <th>35123</th>\n",
       "      <td>44348_right</td>\n",
       "      <td>0</td>\n",
       "    </tr>\n",
       "    <tr>\n",
       "      <th>35124</th>\n",
       "      <td>44349_left</td>\n",
       "      <td>0</td>\n",
       "    </tr>\n",
       "    <tr>\n",
       "      <th>35125</th>\n",
       "      <td>44349_right</td>\n",
       "      <td>1</td>\n",
       "    </tr>\n",
       "  </tbody>\n",
       "</table>\n",
       "<p>35126 rows × 2 columns</p>\n",
       "</div>"
      ],
      "text/plain": [
       "             image  level\n",
       "0          10_left      0\n",
       "1         10_right      0\n",
       "2          13_left      0\n",
       "3         13_right      0\n",
       "4          15_left      1\n",
       "...            ...    ...\n",
       "35121  44347_right      0\n",
       "35122   44348_left      0\n",
       "35123  44348_right      0\n",
       "35124   44349_left      0\n",
       "35125  44349_right      1\n",
       "\n",
       "[35126 rows x 2 columns]"
      ]
     },
     "execution_count": 4,
     "metadata": {},
     "output_type": "execute_result"
    }
   ],
   "source": [
    "# Read csv file\n",
    "df_labels = pd.read_csv(\"data/trainLabels.csv\")\n",
    "\n",
    "#Display metadata\n",
    "df_labels"
   ]
  },
  {
   "cell_type": "markdown",
   "id": "37f8a3f3",
   "metadata": {},
   "source": [
    "## Visualize Level Distribution"
   ]
  },
  {
   "cell_type": "code",
   "execution_count": 5,
   "id": "d5cf7eeb",
   "metadata": {
    "scrolled": true
   },
   "outputs": [
    {
     "data": {
      "text/plain": [
       "Text(0.5, 1.0, 'Distribution of Diabetic Retinopathy Levels (0-4)')"
      ]
     },
     "execution_count": 5,
     "metadata": {},
     "output_type": "execute_result"
    },
    {
     "data": {
      "image/png": "[encoded data removed]",
      "text/plain": [
       "<Figure size 432x288 with 1 Axes>"
      ]
     },
     "metadata": {
      "needs_background": "light"
     },
     "output_type": "display_data"
    }
   ],
   "source": [
    "# Import Seaborn library\n",
    "# Source: https://www.geeksforgeeks.org/countplot-using-seaborn-in-python/\n",
    "import seaborn as sns\n",
    "  \n",
    "# count plot on single categorical variable\n",
    "sns.countplot(x = df_labels['level'])\n",
    " \n",
    "# Show the plot\n",
    "plt.title('Distribution of Diabetic Retinopathy Levels (0-4)')"
   ]
  },
  {
   "cell_type": "markdown",
   "id": "06dbf8dc",
   "metadata": {},
   "source": [
    "## Create and Organize Data Folders"
   ]
  },
  {
   "cell_type": "code",
   "execution_count": 6,
   "id": "9a05a918",
   "metadata": {},
   "outputs": [],
   "source": [
    "# Import os library\n",
    "import os"
   ]
  },
  {
   "cell_type": "code",
   "execution_count": 7,
   "id": "fe1f485a",
   "metadata": {},
   "outputs": [
    {
     "name": "stdout",
     "output_type": "stream",
     "text": [
      "./data/labeled_data already exists\n"
     ]
    }
   ],
   "source": [
    "# Make new folder to hold labeled data\n",
    "try:\n",
    "    os.mkdir('./data/labeled_data')\n",
    "except FileExistsError:\n",
    "    print('./data/labeled_data already exists')"
   ]
  },
  {
   "cell_type": "code",
   "execution_count": 8,
   "id": "e7c55ad6",
   "metadata": {},
   "outputs": [
    {
     "name": "stdout",
     "output_type": "stream",
     "text": [
      "./data/labeled_data/0 already exists\n",
      "./data/labeled_data/1 already exists\n",
      "./data/labeled_data/2 already exists\n",
      "./data/labeled_data/3 already exists\n",
      "./data/labeled_data/4 already exists\n"
     ]
    }
   ],
   "source": [
    "# Create subfolders for each level\n",
    "for i in range(5):\n",
    "    try:\n",
    "        os.mkdir('./data/labeled_data/' + str(i))\n",
    "    except FileExistsError:\n",
    "        print('./data/labeled_data/' + str(i) + ' already exists')"
   ]
  },
  {
   "cell_type": "markdown",
   "id": "aa1a7464",
   "metadata": {},
   "source": [
    "## Visualize Sample Eye Images"
   ]
  },
  {
   "cell_type": "code",
   "execution_count": 9,
   "id": "5a76fdc7",
   "metadata": {},
   "outputs": [
    {
     "data": {
      "text/plain": [
       "numpy.int64"
      ]
     },
     "execution_count": 9,
     "metadata": {},
     "output_type": "execute_result"
    }
   ],
   "source": [
    "# What is the data type of the levels? (0-4) Strings or integers?\n",
    "type(df_labels['level'][0])"
   ]
  },
  {
   "cell_type": "markdown",
   "id": "189bcb87-5022-41a1-bb11-ecc53b1797d9",
   "metadata": {},
   "source": [
    "<h1>Creating Image Subset from labeled data file</h1>\n",
    "The dataset from kaggle is about 88 GB of images which is huge to download on our local machine so our group decided to just simply use a subset of the kaggle dataset. On my local machine I extracted just one of the zip files from Kaggle using 7-zip. A single zip file is about 8 GB which is still very large so I would make a subset of the single zip file that I had extracted that would hold about 1000 images. I am choosing 1000 images because the Inception v2 research article that the group had read had a dataset that was 1200 images.<br><br>\n",
    "The goal of this code is to just grab 1000 images from the training zip file I created on my local machine. I will then upload the smaller dataset to our github repository if the file size is small enough."
   ]
  },
  {
   "cell_type": "markdown",
   "id": "6e04dfc4",
   "metadata": {},
   "source": [
    "The code cell below is commented out since we have already took a subset of the images and don't need to run this cell again"
   ]
  },
  {
   "cell_type": "code",
   "execution_count": 10,
   "id": "28b5fb71-a2e2-4e3c-8059-83c8f1b873a9",
   "metadata": {
    "scrolled": true,
    "tags": []
   },
   "outputs": [],
   "source": [
    "# # This is the absolute file path on my machine\n",
    "# bishoy_local_kaggle_data_dir = r\"C:\\Users\\bisho\\Desktop\\College\\Classes\\Junior\\Spring 2022\\CompHealthMedicine\\Final Project\\data\\train\"\n",
    "\n",
    "# image_names_list = sorted(os.listdir(bishoy_local_kaggle_data_dir))[:1000]\n",
    "# print(\"Length of image_names_list is: \", len(image_names_list), '\\n', image_names_list)"
   ]
  },
  {
   "cell_type": "code",
   "execution_count": 16,
   "id": "24ef2cca-9269-45d0-9b78-9c64abd0739d",
   "metadata": {
    "scrolled": true,
    "tags": []
   },
   "outputs": [
    {
     "name": "stdout",
     "output_type": "stream",
     "text": [
      "[('10_left.jpeg', 0), ('10_right.jpeg', 0), ('13_left.jpeg', 0), ('13_right.jpeg', 0), ('15_left.jpeg', 1), ('15_right.jpeg', 2), ('16_left.jpeg', 4), ('16_right.jpeg', 4), ('17_left.jpeg', 0), ('17_right.jpeg', 1)]\n"
     ]
    }
   ],
   "source": [
    "import shutil\n",
    "data_dir = \"./data/labeled_data/\"  # This is the data folder in the git repo that holds that label folders from 0 to 4\n",
    "image_value_dic = {}  # This is a dictionary that will take the image name and the associated value from the df_labels dataframe\n",
    "\n",
    "for i in range(len(df_labels)):\n",
    "    # Grabs the image name from \"image\" column in df_labels and sets that as key then grabs value from \"value\" column and sets that as value\n",
    "    image_value_dic[str(df_labels.iloc[i]['image']) + \".jpeg\"] = df_labels.iloc[i]['level']\n",
    "    \n",
    "# Prints out the first 10 items in the image value dictionary\n",
    "image_value_dic_items = image_value_dic.items()\n",
    "print(list(image_value_dic_items)[:10])"
   ]
  },
  {
   "cell_type": "markdown",
   "id": "5afd5c8d",
   "metadata": {},
   "source": [
    "The code cell below is commented out since we have already sorted & pushed the images into their appropriate subfolders and don't need to run this cell again"
   ]
  },
  {
   "cell_type": "code",
   "execution_count": 11,
   "id": "151b4123-b0f8-4237-bb82-247966e659d4",
   "metadata": {
    "scrolled": true,
    "tags": []
   },
   "outputs": [],
   "source": [
    "# # this for loop sorts the 1000 image names in image_names_list into the appropiate dr severity folder from 0 to 4\n",
    "# for image in image_names_list:\n",
    "#     origin_file = bishoy_local_kaggle_data_dir + \"\\\\\" + image  # This is the file path of the current image we are looking at\n",
    "#     # Find image level from image_value_dic\n",
    "#     place_into_dir = os.path.join(data_dir, str(image_value_dic[image]) + \"/\" + image) # Depending on machine's OS may have to switch \"/\" with \"\\\" or vice versa\n",
    "#     # copy image from abs file path to labeled_data file that is in the repo\n",
    "#     shutil.copy(origin_file, place_into_dir)"
   ]
  },
  {
   "cell_type": "markdown",
   "id": "1d70091b-b28b-4fe1-b5d3-b521671239bc",
   "metadata": {},
   "source": [
    "<h1>Dealing with Class Imbalance</h1>\n",
    "I want to see how many images are in each folder and figure out what the weights of those images should be. This is similar to what we did in hw5/hw6."
   ]
  },
  {
   "cell_type": "code",
   "execution_count": 9,
   "id": "964a8848-fc3c-4de9-bd73-48a96453db4f",
   "metadata": {},
   "outputs": [
    {
     "name": "stdout",
     "output_type": "stream",
     "text": [
      "0:  728 \n",
      " 1:  66 \n",
      " 2:  159 \n",
      " 3:  26 \n",
      " 4:  21 \n",
      " total:  1000\n"
     ]
    }
   ],
   "source": [
    "num_of_0_imgs = len(os.listdir('data/labeled_data/0'))  # Goes into the specified severity level folder and counts number of images inside\n",
    "num_of_1_imgs = len(os.listdir('data/labeled_data/1'))\n",
    "num_of_2_imgs = len(os.listdir('data/labeled_data/2'))\n",
    "num_of_3_imgs = len(os.listdir('data/labeled_data/3'))\n",
    "num_of_4_imgs = len(os.listdir('data/labeled_data/4'))\n",
    "\n",
    "img_total = (num_of_0_imgs + num_of_1_imgs + \n",
    "             num_of_2_imgs + num_of_3_imgs + \n",
    "             num_of_4_imgs)  # adds up all of the images in the folders and sets it to a variable\n",
    "\n",
    "print(\"0: \", num_of_0_imgs, \"\\n\",\n",
    "      \"1: \", num_of_1_imgs, \"\\n\",\n",
    "      \"2: \", num_of_2_imgs, \"\\n\",\n",
    "      \"3: \", num_of_3_imgs, \"\\n\",\n",
    "      \"4: \", num_of_4_imgs, \"\\n\",\n",
    "      \"total: \", img_total)"
   ]
  },
  {
   "cell_type": "markdown",
   "id": "dfe68e1d",
   "metadata": {},
   "source": [
    "Now we want to visualize distribution of classes in our subset"
   ]
  },
  {
   "cell_type": "code",
   "execution_count": 10,
   "id": "3480ab32",
   "metadata": {},
   "outputs": [
    {
     "data": {
      "text/plain": [
       "Text(0.5, 1.0, 'Distribution of Diabetic Retinopathy Levels (0-4) Subset')"
      ]
     },
     "execution_count": 10,
     "metadata": {},
     "output_type": "execute_result"
    },
    {
     "data": {
      "image/png": "[encoded data removed]",
      "text/plain": [
       "<Figure size 432x288 with 1 Axes>"
      ]
     },
     "metadata": {
      "needs_background": "light"
     },
     "output_type": "display_data"
    }
   ],
   "source": [
    "image_lengths = [num_of_0_imgs, num_of_1_imgs, num_of_2_imgs, num_of_3_imgs, num_of_4_imgs]\n",
    "classes = [str(i) for i in range(5)]\n",
    "\n",
    "# https://www.tutorialspoint.com/matplotlib/matplotlib_bar_plot.htm\n",
    "plt.bar(classes, image_lengths)\n",
    " \n",
    "# Show the plot\n",
    "plt.title('Distribution of Diabetic Retinopathy Levels (0-4) Subset')"
   ]
  },
  {
   "cell_type": "markdown",
   "id": "3c1298f4-ecf8-4e68-8f60-35209b70f11e",
   "metadata": {},
   "source": [
    "Noticed a very large disproportion of the labeled images for levels 1, 3, and 4 so we should try to fix this with over sampling and then median frequency balancing to determine the weights of each image after getting a better destribution."
   ]
  },
  {
   "cell_type": "code",
   "execution_count": 13,
   "id": "e26f33c5-422b-45aa-8228-5fff93793747",
   "metadata": {},
   "outputs": [
    {
     "ename": "FileNotFoundError",
     "evalue": "[WinError 2] The system cannot find the file specified: 'd'",
     "output_type": "error",
     "traceback": [
      "\u001b[1;31m---------------------------------------------------------------------------\u001b[0m",
      "\u001b[1;31mFileNotFoundError\u001b[0m                         Traceback (most recent call last)",
      "\u001b[1;32m~\\AppData\\Local\\Temp/ipykernel_17572/3562372406.py\u001b[0m in \u001b[0;36m<module>\u001b[1;34m\u001b[0m\n\u001b[0;32m      6\u001b[0m \u001b[0mlabeled_folder_4_dir\u001b[0m \u001b[1;33m=\u001b[0m \u001b[1;34m\"data/labeled_data/4/\"\u001b[0m\u001b[1;33m\u001b[0m\u001b[1;33m\u001b[0m\u001b[0m\n\u001b[0;32m      7\u001b[0m \u001b[1;32mfor\u001b[0m \u001b[0mimage\u001b[0m \u001b[1;32min\u001b[0m \u001b[0mlabeled_folder_0_dir\u001b[0m\u001b[1;33m:\u001b[0m\u001b[1;33m\u001b[0m\u001b[1;33m\u001b[0m\u001b[0m\n\u001b[1;32m----> 8\u001b[1;33m     \u001b[0mos\u001b[0m\u001b[1;33m.\u001b[0m\u001b[0mremove\u001b[0m\u001b[1;33m(\u001b[0m\u001b[0mimage\u001b[0m\u001b[1;33m)\u001b[0m\u001b[1;33m\u001b[0m\u001b[1;33m\u001b[0m\u001b[0m\n\u001b[0m\u001b[0;32m      9\u001b[0m     \u001b[1;32mif\u001b[0m \u001b[0mi\u001b[0m \u001b[1;33m<\u001b[0m \u001b[1;36m67\u001b[0m\u001b[1;33m:\u001b[0m \u001b[1;31m# replace 67 images from 0 severity to 1 severity\u001b[0m\u001b[1;33m\u001b[0m\u001b[1;33m\u001b[0m\u001b[0m\n\u001b[0;32m     10\u001b[0m         \u001b[1;31m# look up image name in dictionary with value 1\u001b[0m\u001b[1;33m\u001b[0m\u001b[1;33m\u001b[0m\u001b[0m\n",
      "\u001b[1;31mFileNotFoundError\u001b[0m: [WinError 2] The system cannot find the file specified: 'd'"
     ]
    }
   ],
   "source": [
    "# for i = (the last 201 images) in the level 0 folder\n",
    "i = 0\n",
    "labeled_folder_0_dir = \"data/labeled_data/0/\"\n",
    "labeled_folder_1_dir = \"data/labeled_data/1/\"\n",
    "labeled_folder_3_dir = \"data/labeled_data/3/\"\n",
    "labeled_folder_4_dir = \"data/labeled_data/4/\"\n",
    "\n",
    "# generate list of images 1 severity\n",
    "# generate list of images 2 severity\n",
    "# generate list of images 3 severity \n",
    "\n",
    "for image in labeled_folder_0_dir:\n",
    "    os.remove(image)\n",
    "    if i < 67: # replace 67 images from 0 severity to 1 severity\n",
    "        # look up image name in dictionary with value 1\n",
    "        # v is the severity grade (1)\n",
    "        temp_image = random.choice([img_1 for img_1,v in image_value_dic.items() if v == 1]) ##https://stackoverflow.com/questions/42438808/finding-all-the-keys-with-the-same-value-in-a-python-dictionary\n",
    "            \n",
    "            # if image name is not in severity folder 1 then\n",
    "        while(temp_image in labeled_folder_1_dir):\n",
    "            temp_image = random.choice([img_1 for img_1,v in image_value_dic.items() if v == 1])\n",
    "        # push into folder 1\n",
    "        shutil.copy(data_dir, labeled_folder_1_dir)\n",
    "    elif i < 134:\n",
    "        # look up image name in dictionary with value 3\n",
    "        # v is the severity grade (3)\n",
    "        temp_image = random.choice([img_3 for img_3,v in image_value_dic.items() if v == 3]) ##https://stackoverflow.com/questions/42438808/finding-all-the-keys-with-the-same-value-in-a-python-dictionary\n",
    "            \n",
    "            # if image name is not in severity folder 1 then\n",
    "        while(temp_image in labeled_folder_3_dir):\n",
    "            temp_image = random.choice([img_3 for img_3,v in image_value_dic.items() if v == 3])\n",
    "        # push into folder 1\n",
    "        shutil.copy(data_dir, labeled_folder_3_dir)\n",
    "    else:  # replace 67 images from 0 severity to 4 severity\n",
    "        # look up image name in dictionary with value 3\n",
    "        # v is the severity grade (4)\n",
    "        temp_image = random.choice([img_4 for img_4,v in image_value_dic.items() if v == 4]) ##https://stackoverflow.com/questions/42438808/finding-all-the-keys-with-the-same-value-in-a-python-dictionary\n",
    "            \n",
    "            # if image name is not in severity folder 1 then\n",
    "        while(temp_image in labeled_folder_4_dir):\n",
    "            temp_image = random.choice([img_4 for img_4,v in image_value_dic.items() if v == 4])\n",
    "        # push into folder 1\n",
    "        shutil.copy(data_dir, labeled_folder_4_dir)\n",
    "    i += 1"
   ]
  },
  {
   "cell_type": "code",
   "execution_count": 11,
   "id": "1fc12746-c3d5-41ba-9cd5-2e891cf25bbf",
   "metadata": {},
   "outputs": [
    {
     "data": {
      "text/plain": [
       "{'0': 0.09065934065934066,\n",
       " '1': 1.0,\n",
       " '2': 0.41509433962264153,\n",
       " '3': 2.5384615384615383,\n",
       " '4': 3.142857142857143}"
      ]
     },
     "execution_count": 11,
     "metadata": {},
     "output_type": "execute_result"
    }
   ],
   "source": [
    "import statistics\n",
    "file_size_list = [num_of_0_imgs, num_of_1_imgs, \n",
    "                  num_of_2_imgs, num_of_3_imgs, \n",
    "                  num_of_4_imgs]  # adds up all of the images in the folders and sets it to a variable\n",
    "classes = [str(i) for i in range(5)]\n",
    "\n",
    "freq_c_vals = file_size_list   # freq(c)\n",
    "\n",
    "#store datasize while we are here\n",
    "datasize = sum(freq_c_vals)\n",
    "\n",
    "statsres = [statistics.median(freq_c_vals)/freq_c for freq_c in freq_c_vals]   # median_freq / freq(c)\n",
    "\n",
    "median_frequency_balancing = dict(zip(classes, statsres))\n",
    "median_frequency_balancing"
   ]
  },
  {
   "cell_type": "code",
   "execution_count": 19,
   "id": "1b2d598a-0a89-4674-ac39-2f2eeda54c17",
   "metadata": {},
   "outputs": [
    {
     "ename": "KeyboardInterrupt",
     "evalue": "",
     "output_type": "error",
     "traceback": [
      "\u001b[1;31m---------------------------------------------------------------------------\u001b[0m",
      "\u001b[1;31mKeyboardInterrupt\u001b[0m                         Traceback (most recent call last)",
      "\u001b[1;32m~\\AppData\\Local\\Temp/ipykernel_13632/3808881191.py\u001b[0m in \u001b[0;36m<module>\u001b[1;34m\u001b[0m\n\u001b[0;32m     25\u001b[0m \u001b[1;33m\u001b[0m\u001b[0m\n\u001b[0;32m     26\u001b[0m                 \u001b[1;31m# image successfully loaded; perform transformations\u001b[0m\u001b[1;33m\u001b[0m\u001b[1;33m\u001b[0m\u001b[0m\n\u001b[1;32m---> 27\u001b[1;33m                 \u001b[0mr_img\u001b[0m \u001b[1;33m=\u001b[0m \u001b[0mr_img\u001b[0m\u001b[1;33m.\u001b[0m\u001b[0mresize\u001b[0m\u001b[1;33m(\u001b[0m\u001b[1;33m(\u001b[0m\u001b[1;36m600\u001b[0m\u001b[1;33m,\u001b[0m \u001b[1;36m600\u001b[0m\u001b[1;33m)\u001b[0m\u001b[1;33m)\u001b[0m\u001b[1;33m\u001b[0m\u001b[1;33m\u001b[0m\u001b[0m\n\u001b[0m\u001b[0;32m     28\u001b[0m \u001b[1;33m\u001b[0m\u001b[0m\n\u001b[0;32m     29\u001b[0m                 \u001b[0mr_img\u001b[0m\u001b[1;33m.\u001b[0m\u001b[0mshow\u001b[0m\u001b[1;33m(\u001b[0m\u001b[1;33m)\u001b[0m\u001b[1;33m\u001b[0m\u001b[1;33m\u001b[0m\u001b[0m\n",
      "\u001b[1;32m~\\anaconda3\\lib\\site-packages\\PIL\\Image.py\u001b[0m in \u001b[0;36mresize\u001b[1;34m(self, size, resample, box, reducing_gap)\u001b[0m\n\u001b[0;32m   1987\u001b[0m             \u001b[1;32mreturn\u001b[0m \u001b[0mim\u001b[0m\u001b[1;33m.\u001b[0m\u001b[0mconvert\u001b[0m\u001b[1;33m(\u001b[0m\u001b[0mself\u001b[0m\u001b[1;33m.\u001b[0m\u001b[0mmode\u001b[0m\u001b[1;33m)\u001b[0m\u001b[1;33m\u001b[0m\u001b[1;33m\u001b[0m\u001b[0m\n\u001b[0;32m   1988\u001b[0m \u001b[1;33m\u001b[0m\u001b[0m\n\u001b[1;32m-> 1989\u001b[1;33m         \u001b[0mself\u001b[0m\u001b[1;33m.\u001b[0m\u001b[0mload\u001b[0m\u001b[1;33m(\u001b[0m\u001b[1;33m)\u001b[0m\u001b[1;33m\u001b[0m\u001b[1;33m\u001b[0m\u001b[0m\n\u001b[0m\u001b[0;32m   1990\u001b[0m \u001b[1;33m\u001b[0m\u001b[0m\n\u001b[0;32m   1991\u001b[0m         \u001b[1;32mif\u001b[0m \u001b[0mreducing_gap\u001b[0m \u001b[1;32mis\u001b[0m \u001b[1;32mnot\u001b[0m \u001b[1;32mNone\u001b[0m \u001b[1;32mand\u001b[0m \u001b[0mresample\u001b[0m \u001b[1;33m!=\u001b[0m \u001b[0mNEAREST\u001b[0m\u001b[1;33m:\u001b[0m\u001b[1;33m\u001b[0m\u001b[1;33m\u001b[0m\u001b[0m\n",
      "\u001b[1;32m~\\anaconda3\\lib\\site-packages\\PIL\\ImageFile.py\u001b[0m in \u001b[0;36mload\u001b[1;34m(self)\u001b[0m\n\u001b[0;32m    253\u001b[0m \u001b[1;33m\u001b[0m\u001b[0m\n\u001b[0;32m    254\u001b[0m                             \u001b[0mb\u001b[0m \u001b[1;33m=\u001b[0m \u001b[0mb\u001b[0m \u001b[1;33m+\u001b[0m \u001b[0ms\u001b[0m\u001b[1;33m\u001b[0m\u001b[1;33m\u001b[0m\u001b[0m\n\u001b[1;32m--> 255\u001b[1;33m                             \u001b[0mn\u001b[0m\u001b[1;33m,\u001b[0m \u001b[0merr_code\u001b[0m \u001b[1;33m=\u001b[0m \u001b[0mdecoder\u001b[0m\u001b[1;33m.\u001b[0m\u001b[0mdecode\u001b[0m\u001b[1;33m(\u001b[0m\u001b[0mb\u001b[0m\u001b[1;33m)\u001b[0m\u001b[1;33m\u001b[0m\u001b[1;33m\u001b[0m\u001b[0m\n\u001b[0m\u001b[0;32m    256\u001b[0m                             \u001b[1;32mif\u001b[0m \u001b[0mn\u001b[0m \u001b[1;33m<\u001b[0m \u001b[1;36m0\u001b[0m\u001b[1;33m:\u001b[0m\u001b[1;33m\u001b[0m\u001b[1;33m\u001b[0m\u001b[0m\n\u001b[0;32m    257\u001b[0m                                 \u001b[1;32mbreak\u001b[0m\u001b[1;33m\u001b[0m\u001b[1;33m\u001b[0m\u001b[0m\n",
      "\u001b[1;31mKeyboardInterrupt\u001b[0m: "
     ]
    }
   ],
   "source": [
    "# preprocessing and augmentation\n",
    "# resizing images to 600x600\n",
    "\n",
    "img_count = 0\n",
    "i = 0\n",
    "\n",
    "# load image directory\n",
    "img_dir = \"data/labeled_data\"\n",
    "\n",
    "# iterate through labeled folders\n",
    "for i in range(5):\n",
    "    n_img_dir = img_dir + \"/\" + str(i)\n",
    "    \n",
    "    # directory exists\n",
    "    if (os.path.isdir(n_img_dir)):\n",
    "        \n",
    "        # iterate through images\n",
    "        for img in os.listdir(n_img_dir):\n",
    "            \n",
    "            # check the file extension\n",
    "            if (img.endswith(\".jpeg\")):\n",
    "                \n",
    "                # load image\n",
    "                r_img = Image.open(n_img_dir + \"\\\\\" + img)\n",
    "            \n",
    "                # image successfully loaded; perform transformations\n",
    "                r_img = r_img.resize((600, 600))\n",
    "                \n",
    "                r_img.show()"
   ]
  },
  {
   "cell_type": "code",
   "execution_count": null,
   "id": "2ad9f526-b583-4a61-a752-fe3b632bb6d3",
   "metadata": {},
   "outputs": [],
   "source": []
  },
  {
   "cell_type": "markdown",
   "id": "57539966",
   "metadata": {},
   "source": [
    "## Load data using ImageFolder"
   ]
  },
  {
   "cell_type": "code",
   "execution_count": 12,
   "id": "023d796a-28c5-4d1d-936b-f2eb34e5359d",
   "metadata": {},
   "outputs": [
    {
     "data": {
      "text/plain": [
       "Dataset ImageFolder\n",
       "    Number of datapoints: 1000\n",
       "    Root location: data/labeled_data"
      ]
     },
     "execution_count": 12,
     "metadata": {},
     "output_type": "execute_result"
    }
   ],
   "source": [
    "import torchvision\n",
    "import torchvision.transforms as transforms\n",
    "\n",
    "dataset = torchvision.datasets.ImageFolder(root=\"data/labeled_data\")\n",
    "dataset"
   ]
  },
  {
   "cell_type": "code",
   "execution_count": 14,
   "id": "2147a84f",
   "metadata": {},
   "outputs": [
    {
     "data": {
      "text/plain": [
       "Compose(\n",
       "    ToTensor()\n",
       "    Resize(size=(600, 600), interpolation=bilinear, max_size=None, antialias=None)\n",
       ")"
      ]
     },
     "execution_count": 14,
     "metadata": {},
     "output_type": "execute_result"
    }
   ],
   "source": [
    "from torchvision import datasets, transforms\n",
    "\n",
    "transform = transforms.Compose([\n",
    "    transforms.ToTensor(),\n",
    "    transforms.Resize((600, 600))\n",
    "])\n",
    "\n",
    "transform"
   ]
  },
  {
   "attachments": {
    "fc200dfe-fd48-4a86-8a75-a8264e6942c0.png": {
     "image/png": "[encoded data removed]"
    }
   },
   "cell_type": "markdown",
   "id": "2867bb01-a580-47ac-9520-acdbafdf2de6",
   "metadata": {},
   "source": [
    "## Color Normalization\n",
    "Need to normalize colors of images as the pictures are taken with different camera models that would have different color tempratures and illuminations. By using color normalization we are able to make the images more similar to each other to reduce variance.\n",
    "\n",
    "Using [this article](https://www.delftstack.com/howto/python/opencv-normalize/#:~:text=Use%20the%20normalize()%20Function,OpenCV%20to%20normalize%20an%20image.) to figure out how to code normalization.\n",
    "\n",
    "[article for resizing image with csv](https://www.tutorialkart.com/opencv/python/opencv-python-resize-image/)\n",
    "\n",
    "[article for channels in an image](https://medium.com/featurepreneur/understanding-the-concept-of-channels-in-an-image-6d59d4dafaa9)\n",
    "\n",
    "[research article used for presentation](https://drive.google.com/drive/folders/1zs_UC4v08E2K0lYJHgBvKSof7p6bh7Ft)\n",
    "\n",
    "![image.png](attachment:fc200dfe-fd48-4a86-8a75-a8264e6942c0.png)"
   ]
  },
  {
   "cell_type": "code",
   "execution_count": 16,
   "id": "5d565635-f420-495c-b9d2-2cdece62fd8b",
   "metadata": {},
   "outputs": [],
   "source": [
    "import cv2\n",
    "import numpy as np\n",
    "\n",
    "labeled_folder_0_dir = \"data/labeled_data/0/\"  # filepath for 0 severity image folder\n",
    "\n",
    "image = cv2.imread(labeled_folder_0_dir + \"10626_right.jpeg\")  # retrieves the spcific img called 1061_right.jpeg and sets it to image object chose this image because it has high amount of glare\n",
    "image = cv2.resize(image, (600,600))  # resizes image object to 600 x 600\n",
    "image = cv2.cvtColor(image, cv.COLOR_BGR2RGB)  # cv2 reads in images as BGG so we convert the image to rgb\n",
    "(R,G,B) = cv2.split(image)  # splits image into three channels being red, green, and blue channels\n",
    "# Remember that images are numpy arrays where each value is a pixel intensity\n",
    "\n",
    "# We can probaly iterate trhough this numpy array and for each pixel we divide it by the mean of the channel and multiply it by 255\n",
    "\n",
    "# We can probaly find the mean by just iterating through the color channel and adding the values up then dividing \n",
    "# that number by the number of times we iterated\n",
    "\n",
    "###############################################################\n",
    "# num_values_in_channel\n",
    "# for i in r_channel:\n",
    "    # r_mean += i\n",
    "    # num_values_in_channel += 1  # Can probably not use this and find the total num of values by using image.shape and multiplying the dimensions\n",
    "# r_mean /= num_values_in_channel\n",
    "\n",
    "# norm_red = new numpy array  # This will be our normalized red pixels channel\n",
    "# for i in r_channel:  # for each value in R channel numpy array\n",
    "    # norm_red.append(min((i / r_mean) * 255))\n",
    "################################################################\n",
    "# Repeat the section above for blue and green channel\n",
    "# Figure out how to combine the three normalized channels for the final normalized image\n",
    "    # I think this is done by multiplying the three channels\n",
    "\n",
    "\n",
    "image_norm = cv2.normalize(image, None, alpha=1,beta=200, norm_type=cv2.NORM_MINMAX)  # normalizes the image's colors\n",
    "\n",
    "cv2.imshow('original Image', image)\n",
    "cv2.imshow('Normalized Image', image_norm)\n",
    "cv2.waitKey(0)\n",
    "cv2.destroyAllWindows()"
   ]
  },
  {
   "cell_type": "code",
   "execution_count": null,
   "id": "250b42f4-009e-4879-a80f-94a6979514bb",
   "metadata": {},
   "outputs": [],
   "source": []
  }
 ],
 "metadata": {
  "colab": {
   "name": "Test.ipynb",
   "provenance": [],
   "toc_visible": true
  },
  "kernelspec": {
   "display_name": "Python 3 (ipykernel)",
   "language": "python",
   "name": "python3"
  },
  "language_info": {
   "codemirror_mode": {
    "name": "ipython",
    "version": 3
   },
   "file_extension": ".py",
   "mimetype": "text/x-python",
   "name": "python",
   "nbconvert_exporter": "python",
   "pygments_lexer": "ipython3",
   "version": "3.9.7"
  }
 },
 "nbformat": 4,
 "nbformat_minor": 5
}
