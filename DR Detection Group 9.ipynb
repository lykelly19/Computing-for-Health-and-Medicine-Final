{
 "cells": [
  {
   "cell_type": "markdown",
   "id": "1e88a746",
   "metadata": {},
   "source": [
    "# Diabetic Retinopathy Detection: Identify Severity of Diabetic Retinopathy in Eye Images\n",
    "\n",
    "University of Massachusetts Lowell   \n",
    "COMP.5300/COMP.4600 Computing in Health and Medicine  \n",
    "Dr. Wenjin Zhou  \n",
    "Brent Garey, Kelly Ly, Ann Men, Bishoy Sargius, and William Zouzas  \n",
    "Due April 26, 2022  "
   ]
  },
  {
   "cell_type": "markdown",
   "id": "d24d07af-11da-4e09-a1be-4b41c1450636",
   "metadata": {},
   "source": [
    "<h1>Git Commands</h1>\n",
    "<h5>Adds changes of the code to our github repo</h5>\n",
    "git add .<br>\n",
    "git commit -m \"some message\"<br>\n",
    "git push<br>\n",
    "\n",
    "<h5>Prints out what happened with the code worked on and github</h5>\n",
    "git status<br>\n",
    "\n",
    "<h5>Downloads the files from the github repo</h5>\n",
    "git pull<br>"
   ]
  },
  {
   "cell_type": "markdown",
   "id": "c75f521a",
   "metadata": {},
   "source": [
    "# STEP 1"
   ]
  },
  {
   "cell_type": "markdown",
   "id": "808cb193",
   "metadata": {},
   "source": [
    "## Read in Labels"
   ]
  },
  {
   "cell_type": "code",
   "execution_count": 17,
   "id": "7e237e78",
   "metadata": {},
   "outputs": [],
   "source": [
    "# Import libraries\n",
    "import matplotlib.pyplot as plt\n",
    "import pandas as pd\n",
    "from PIL import Image\n",
    "import os\n",
    "import numpy as np\n",
    "import cv2"
   ]
  },
  {
   "cell_type": "code",
   "execution_count": 18,
   "id": "63ede9d3",
   "metadata": {},
   "outputs": [
    {
     "data": {
      "text/html": [
       "<div>\n",
       "<style scoped>\n",
       "    .dataframe tbody tr th:only-of-type {\n",
       "        vertical-align: middle;\n",
       "    }\n",
       "\n",
       "    .dataframe tbody tr th {\n",
       "        vertical-align: top;\n",
       "    }\n",
       "\n",
       "    .dataframe thead th {\n",
       "        text-align: right;\n",
       "    }\n",
       "</style>\n",
       "<table border=\"1\" class=\"dataframe\">\n",
       "  <thead>\n",
       "    <tr style=\"text-align: right;\">\n",
       "      <th></th>\n",
       "      <th>image</th>\n",
       "      <th>level</th>\n",
       "    </tr>\n",
       "  </thead>\n",
       "  <tbody>\n",
       "    <tr>\n",
       "      <th>0</th>\n",
       "      <td>10_left</td>\n",
       "      <td>0</td>\n",
       "    </tr>\n",
       "    <tr>\n",
       "      <th>1</th>\n",
       "      <td>10_right</td>\n",
       "      <td>0</td>\n",
       "    </tr>\n",
       "    <tr>\n",
       "      <th>2</th>\n",
       "      <td>13_left</td>\n",
       "      <td>0</td>\n",
       "    </tr>\n",
       "    <tr>\n",
       "      <th>3</th>\n",
       "      <td>13_right</td>\n",
       "      <td>0</td>\n",
       "    </tr>\n",
       "    <tr>\n",
       "      <th>4</th>\n",
       "      <td>15_left</td>\n",
       "      <td>1</td>\n",
       "    </tr>\n",
       "    <tr>\n",
       "      <th>...</th>\n",
       "      <td>...</td>\n",
       "      <td>...</td>\n",
       "    </tr>\n",
       "    <tr>\n",
       "      <th>35121</th>\n",
       "      <td>44347_right</td>\n",
       "      <td>0</td>\n",
       "    </tr>\n",
       "    <tr>\n",
       "      <th>35122</th>\n",
       "      <td>44348_left</td>\n",
       "      <td>0</td>\n",
       "    </tr>\n",
       "    <tr>\n",
       "      <th>35123</th>\n",
       "      <td>44348_right</td>\n",
       "      <td>0</td>\n",
       "    </tr>\n",
       "    <tr>\n",
       "      <th>35124</th>\n",
       "      <td>44349_left</td>\n",
       "      <td>0</td>\n",
       "    </tr>\n",
       "    <tr>\n",
       "      <th>35125</th>\n",
       "      <td>44349_right</td>\n",
       "      <td>1</td>\n",
       "    </tr>\n",
       "  </tbody>\n",
       "</table>\n",
       "<p>35126 rows × 2 columns</p>\n",
       "</div>"
      ],
      "text/plain": [
       "             image  level\n",
       "0          10_left      0\n",
       "1         10_right      0\n",
       "2          13_left      0\n",
       "3         13_right      0\n",
       "4          15_left      1\n",
       "...            ...    ...\n",
       "35121  44347_right      0\n",
       "35122   44348_left      0\n",
       "35123  44348_right      0\n",
       "35124   44349_left      0\n",
       "35125  44349_right      1\n",
       "\n",
       "[35126 rows x 2 columns]"
      ]
     },
     "execution_count": 18,
     "metadata": {},
     "output_type": "execute_result"
    }
   ],
   "source": [
    "# Read csv file\n",
    "df_labels = pd.read_csv(\"data/trainLabels.csv\")\n",
    "\n",
    "#Display metadata\n",
    "df_labels"
   ]
  },
  {
   "cell_type": "markdown",
   "id": "37f8a3f3",
   "metadata": {},
   "source": [
    "## Visualize Level Distribution"
   ]
  },
  {
   "cell_type": "code",
   "execution_count": 19,
   "id": "d5cf7eeb",
   "metadata": {
    "scrolled": true
   },
   "outputs": [
    {
     "data": {
      "text/plain": [
       "Text(0.5, 1.0, 'Distribution of Diabetic Retinopathy Levels (0-4)')"
      ]
     },
     "execution_count": 19,
     "metadata": {},
     "output_type": "execute_result"
    },
    {
     "data": {
      "image/png": "[encoded data removed]",
      "text/plain": [
       "<Figure size 432x288 with 1 Axes>"
      ]
     },
     "metadata": {
      "needs_background": "light"
     },
     "output_type": "display_data"
    }
   ],
   "source": [
    "# Import Seaborn library\n",
    "# Source: https://www.geeksforgeeks.org/countplot-using-seaborn-in-python/\n",
    "import seaborn as sns\n",
    "  \n",
    "# count plot on single categorical variable\n",
    "sns.countplot(x = df_labels['level'])\n",
    " \n",
    "# Show the plot\n",
    "plt.title('Distribution of Diabetic Retinopathy Levels (0-4)')"
   ]
  },
  {
   "cell_type": "markdown",
   "id": "06dbf8dc",
   "metadata": {},
   "source": [
    "## Create and Organize Data Folders"
   ]
  },
  {
   "cell_type": "code",
   "execution_count": 20,
   "id": "9a05a918",
   "metadata": {},
   "outputs": [],
   "source": [
    "# Import os library\n",
    "import os"
   ]
  },
  {
   "cell_type": "code",
   "execution_count": 21,
   "id": "fe1f485a",
   "metadata": {},
   "outputs": [
    {
     "name": "stdout",
     "output_type": "stream",
     "text": [
      "./data/labeled_data already exists\n"
     ]
    }
   ],
   "source": [
    "# Make new folder to hold labeled data\n",
    "try:\n",
    "    os.mkdir('./data/labeled_data')\n",
    "except FileExistsError:\n",
    "    print('./data/labeled_data already exists')"
   ]
  },
  {
   "cell_type": "code",
   "execution_count": 22,
   "id": "e7c55ad6",
   "metadata": {},
   "outputs": [
    {
     "name": "stdout",
     "output_type": "stream",
     "text": [
      "./data/labeled_data/0 already exists\n",
      "./data/labeled_data/1 already exists\n",
      "./data/labeled_data/2 already exists\n",
      "./data/labeled_data/3 already exists\n",
      "./data/labeled_data/4 already exists\n"
     ]
    }
   ],
   "source": [
    "# Create subfolders for each level\n",
    "for i in range(5):\n",
    "    try:\n",
    "        os.mkdir('./data/labeled_data/' + str(i))\n",
    "    except FileExistsError:\n",
    "        print('./data/labeled_data/' + str(i) + ' already exists')"
   ]
  },
  {
   "cell_type": "markdown",
   "id": "aa1a7464",
   "metadata": {},
   "source": [
    "## Visualize Sample Eye Images"
   ]
  },
  {
   "cell_type": "code",
   "execution_count": 23,
   "id": "5a76fdc7",
   "metadata": {},
   "outputs": [
    {
     "data": {
      "text/plain": [
       "numpy.int64"
      ]
     },
     "execution_count": 23,
     "metadata": {},
     "output_type": "execute_result"
    }
   ],
   "source": [
    "# What is the data type of the levels? (0-4) Strings or integers?\n",
    "type(df_labels['level'][0])"
   ]
  },
  {
   "cell_type": "markdown",
   "id": "189bcb87-5022-41a1-bb11-ecc53b1797d9",
   "metadata": {},
   "source": [
    "<h1>Creating Image Subset from labeled data file</h1>\n",
    "The dataset from kaggle is about 88 GB of images which is huge to download on our local machine so our group decided to just simply use a subset of the kaggle dataset. On my local machine I extracted just one of the zip files from Kaggle using 7-zip. A single zip file is about 8 GB which is still very large so I would make a subset of the single zip file that I had extracted that would hold about 1000 images. I am choosing 1000 images because the Inception v2 research article that the group had read had a dataset that was 1200 images.<br><br>\n",
    "The goal of this code is to just grab 1000 images from the training zip file I created on my local machine. I will then upload the smaller dataset to our github repository if the file size is small enough."
   ]
  },
  {
   "cell_type": "markdown",
   "id": "6e04dfc4",
   "metadata": {},
   "source": [
    "The code cell below is commented out since we have already took a subset of the images and don't need to run this cell again"
   ]
  },
  {
   "cell_type": "code",
   "execution_count": 24,
   "id": "28b5fb71-a2e2-4e3c-8059-83c8f1b873a9",
   "metadata": {
    "scrolled": true,
    "tags": []
   },
   "outputs": [],
   "source": [
    "# # This is the absolute file path on my machine\n",
    "# bishoy_local_kaggle_data_dir = r\"C:\\Users\\bisho\\Desktop\\College\\Classes\\Junior\\Spring 2022\\CompHealthMedicine\\Final Project\\data\\train\"\n",
    "\n",
    "# image_names_list = sorted(os.listdir(bishoy_local_kaggle_data_dir))[:1000]\n",
    "# print(\"Length of image_names_list is: \", len(image_names_list), '\\n', image_names_list)"
   ]
  },
  {
   "cell_type": "code",
   "execution_count": 25,
   "id": "24ef2cca-9269-45d0-9b78-9c64abd0739d",
   "metadata": {
    "scrolled": true,
    "tags": []
   },
   "outputs": [],
   "source": [
    "import shutil\n",
    "data_dir = \"./data/labeled_data/\"  # This is the data folder in the git repo that holds that label folders from 0 to 4\n",
    "image_value_dic = {}  # This is a dictionary that will take the image name and the associated value from the df_labels dataframe\n",
    "\n",
    "for i in range(len(df_labels)):\n",
    "    # Grabs the image name from \"image\" column in df_labels and sets that as key then grabs value from \"value\" column and sets that as value\n",
    "    image_value_dic[str(df_labels.iloc[i]['image']) + \".jpeg\"] = df_labels.iloc[i]['level']\n",
    "    \n",
    "# print(image_value_dic)"
   ]
  },
  {
   "cell_type": "markdown",
   "id": "5afd5c8d",
   "metadata": {},
   "source": [
    "The code cell below is commented out since we have already sorted & pushed the images into their appropriate subfolders and don't need to run this cell again"
   ]
  },
  {
   "cell_type": "code",
   "execution_count": 26,
   "id": "151b4123-b0f8-4237-bb82-247966e659d4",
   "metadata": {
    "scrolled": true,
    "tags": []
   },
   "outputs": [],
   "source": [
    "# # this for loop sorts the 1000 image names in image_names_list into the appropiate dr severity folder from 0 to 4\n",
    "# for image in image_names_list:\n",
    "#     origin_file = bishoy_local_kaggle_data_dir + \"\\\\\" + image  # This is the file path of the current image we are looking at\n",
    "#     # Find image level from image_value_dic\n",
    "#     place_into_dir = os.path.join(data_dir, str(image_value_dic[image]) + \"/\" + image) # Depending on machine's OS may have to switch \"/\" with \"\\\" or vice versa\n",
    "#     # copy image from abs file path to labeled_data file that is in the repo\n",
    "#     shutil.copy(origin_file, place_into_dir)"
   ]
  },
  {
   "cell_type": "markdown",
   "id": "1d70091b-b28b-4fe1-b5d3-b521671239bc",
   "metadata": {},
   "source": [
    "<h1>Dealing with Class Imbalance</h1>\n",
    "I want to see how many images are in each folder and figure out what the weights of those images should be. This is similar to what we did in hw5/hw6."
   ]
  },
  {
   "cell_type": "code",
   "execution_count": 27,
   "id": "964a8848-fc3c-4de9-bd73-48a96453db4f",
   "metadata": {},
   "outputs": [
    {
     "name": "stdout",
     "output_type": "stream",
     "text": [
      "0:  728 \n",
      " 1:  66 \n",
      " 2:  159 \n",
      " 3:  26 \n",
      " 4:  21 \n",
      " total:  1000\n"
     ]
    }
   ],
   "source": [
    "num_of_0_imgs = len(os.listdir('data/labeled_data/0'))  # Goes into the specified severity level folder and counts number of images inside\n",
    "num_of_1_imgs = len(os.listdir('data/labeled_data/1'))\n",
    "num_of_2_imgs = len(os.listdir('data/labeled_data/2'))\n",
    "num_of_3_imgs = len(os.listdir('data/labeled_data/3'))\n",
    "num_of_4_imgs = len(os.listdir('data/labeled_data/4'))\n",
    "\n",
    "img_total = (num_of_0_imgs + num_of_1_imgs + \n",
    "             num_of_2_imgs + num_of_3_imgs + \n",
    "             num_of_4_imgs)  # adds up all of the images in the folders and sets it to a variable\n",
    "\n",
    "print(\"0: \", num_of_0_imgs, \"\\n\",\n",
    "      \"1: \", num_of_1_imgs, \"\\n\",\n",
    "      \"2: \", num_of_2_imgs, \"\\n\",\n",
    "      \"3: \", num_of_3_imgs, \"\\n\",\n",
    "      \"4: \", num_of_4_imgs, \"\\n\",\n",
    "      \"total: \", img_total)"
   ]
  },
  {
   "cell_type": "markdown",
   "id": "dfe68e1d",
   "metadata": {},
   "source": [
    "Now we want to visualize distribution of classes in our subset"
   ]
  },
  {
   "cell_type": "code",
   "execution_count": 28,
   "id": "3480ab32",
   "metadata": {},
   "outputs": [
    {
     "data": {
      "text/plain": [
       "Text(0.5, 1.0, 'Distribution of Diabetic Retinopathy Levels (0-4) Subset')"
      ]
     },
     "execution_count": 28,
     "metadata": {},
     "output_type": "execute_result"
    },
    {
     "data": {
      "image/png": "[encoded data removed]",
      "text/plain": [
       "<Figure size 432x288 with 1 Axes>"
      ]
     },
     "metadata": {
      "needs_background": "light"
     },
     "output_type": "display_data"
    }
   ],
   "source": [
    "image_lengths = [num_of_0_imgs, num_of_1_imgs, num_of_2_imgs, num_of_3_imgs, num_of_4_imgs]\n",
    "classes = [str(i) for i in range(5)]\n",
    "\n",
    "# https://www.tutorialspoint.com/matplotlib/matplotlib_bar_plot.htm\n",
    "plt.bar(classes, image_lengths)\n",
    " \n",
    "# Show the plot\n",
    "plt.title('Distribution of Diabetic Retinopathy Levels (0-4) Subset')"
   ]
  },
  {
   "cell_type": "markdown",
   "id": "3c1298f4-ecf8-4e68-8f60-35209b70f11e",
   "metadata": {},
   "source": [
    "Noticed a very large disproportion of the labeled images for levels 1, 3, and 4 so we should try to fix this with over sampling and then median frequency balancing to determine the weights of each image after getting a better destribution."
   ]
  },
  {
   "cell_type": "code",
   "execution_count": 29,
   "id": "e26f33c5-422b-45aa-8228-5fff93793747",
   "metadata": {},
   "outputs": [
    {
     "ename": "FileNotFoundError",
     "evalue": "[WinError 2] The system cannot find the file specified: 'd'",
     "output_type": "error",
     "traceback": [
      "\u001b[1;31m---------------------------------------------------------------------------\u001b[0m",
      "\u001b[1;31mFileNotFoundError\u001b[0m                         Traceback (most recent call last)",
      "\u001b[1;32m~\\AppData\\Local\\Temp/ipykernel_25340/3311245711.py\u001b[0m in \u001b[0;36m<module>\u001b[1;34m\u001b[0m\n\u001b[0;32m     11\u001b[0m \u001b[1;33m\u001b[0m\u001b[0m\n\u001b[0;32m     12\u001b[0m \u001b[1;32mfor\u001b[0m \u001b[0mimage\u001b[0m \u001b[1;32min\u001b[0m \u001b[0mlabeled_folder_0_dir\u001b[0m\u001b[1;33m:\u001b[0m\u001b[1;33m\u001b[0m\u001b[1;33m\u001b[0m\u001b[0m\n\u001b[1;32m---> 13\u001b[1;33m     \u001b[0mos\u001b[0m\u001b[1;33m.\u001b[0m\u001b[0mremove\u001b[0m\u001b[1;33m(\u001b[0m\u001b[0mimage\u001b[0m\u001b[1;33m)\u001b[0m\u001b[1;33m\u001b[0m\u001b[1;33m\u001b[0m\u001b[0m\n\u001b[0m\u001b[0;32m     14\u001b[0m     \u001b[1;32mif\u001b[0m \u001b[0mi\u001b[0m \u001b[1;33m<\u001b[0m \u001b[1;36m67\u001b[0m\u001b[1;33m:\u001b[0m \u001b[1;31m# replace 67 images from 0 severity to 1 severity\u001b[0m\u001b[1;33m\u001b[0m\u001b[1;33m\u001b[0m\u001b[0m\n\u001b[0;32m     15\u001b[0m         \u001b[1;31m# look up image name in dictionary with value 1\u001b[0m\u001b[1;33m\u001b[0m\u001b[1;33m\u001b[0m\u001b[0m\n",
      "\u001b[1;31mFileNotFoundError\u001b[0m: [WinError 2] The system cannot find the file specified: 'd'"
     ]
    }
   ],
   "source": [
    "# for i = (the last 201 images) in the level 0 folder\n",
    "i = 0\n",
    "labeled_folder_0_dir = \"data/labeled_data/0/\"\n",
    "labeled_folder_1_dir = \"data/labeled_data/1/\"\n",
    "labeled_folder_3_dir = \"data/labeled_data/3/\"\n",
    "labeled_folder_4_dir = \"data/labeled_data/4/\"\n",
    "\n",
    "# generate list of images 1 severity\n",
    "# generate list of images 2 severity\n",
    "# generate list of images 3 severity \n",
    "\n",
    "for image in labeled_folder_0_dir:\n",
    "    os.remove(image)\n",
    "    if i < 67: # replace 67 images from 0 severity to 1 severity\n",
    "        # look up image name in dictionary with value 1\n",
    "        # v is the severity grade (1)\n",
    "        temp_image = random.choice([img_1 for img_1,v in image_value_dic.items() if v == 1]) ##https://stackoverflow.com/questions/42438808/finding-all-the-keys-with-the-same-value-in-a-python-dictionary\n",
    "            \n",
    "            # if image name is not in severity folder 1 then\n",
    "        while(temp_image in labeled_folder_1_dir):\n",
    "            temp_image = random.choice([img_1 for img_1,v in image_value_dic.items() if v == 1])\n",
    "        # push into folder 1\n",
    "        shutil.copy(data_dir, labeled_folder_1_dir)\n",
    "    elif i < 134:\n",
    "        # look up image name in dictionary with value 3\n",
    "        # v is the severity grade (3)\n",
    "        temp_image = random.choice([img_3 for img_3,v in image_value_dic.items() if v == 3]) ##https://stackoverflow.com/questions/42438808/finding-all-the-keys-with-the-same-value-in-a-python-dictionary\n",
    "            \n",
    "            # if image name is not in severity folder 1 then\n",
    "        while(temp_image in labeled_folder_3_dir):\n",
    "            temp_image = random.choice([img_3 for img_3,v in image_value_dic.items() if v == 3])\n",
    "        # push into folder 1\n",
    "        shutil.copy(data_dir, labeled_folder_3_dir)\n",
    "    else:  # replace 67 images from 0 severity to 4 severity\n",
    "        # look up image name in dictionary with value 3\n",
    "        # v is the severity grade (4)\n",
    "        temp_image = random.choice([img_4 for img_4,v in image_value_dic.items() if v == 4]) ##https://stackoverflow.com/questions/42438808/finding-all-the-keys-with-the-same-value-in-a-python-dictionary\n",
    "            \n",
    "            # if image name is not in severity folder 1 then\n",
    "        while(temp_image in labeled_folder_4_dir):\n",
    "            temp_image = random.choice([img_4 for img_4,v in image_value_dic.items() if v == 4])\n",
    "        # push into folder 1\n",
    "        shutil.copy(data_dir, labeled_folder_4_dir)\n",
    "    i += 1"
   ]
  },
  {
   "cell_type": "code",
   "execution_count": null,
   "id": "1fc12746-c3d5-41ba-9cd5-2e891cf25bbf",
   "metadata": {},
   "outputs": [],
   "source": [
    "import statistics\n",
    "file_size_list = [num_of_0_imgs, num_of_1_imgs, \n",
    "                  num_of_2_imgs, num_of_3_imgs, \n",
    "                  num_of_4_imgs]  # adds up all of the images in the folders and sets it to a variable\n",
    "classes = [str(i) for i in range(5)]\n",
    "\n",
    "freq_c_vals = file_size_list   # freq(c)\n",
    "\n",
    "#store datasize while we are here\n",
    "datasize = sum(freq_c_vals)\n",
    "\n",
    "statsres = [statistics.median(freq_c_vals)/freq_c for freq_c in freq_c_vals]   # median_freq / freq(c)\n",
    "\n",
    "median_frequency_balancing = dict(zip(classes, statsres))\n",
    "median_frequency_balancing"
   ]
  },
  {
   "cell_type": "markdown",
   "id": "03849448",
   "metadata": {},
   "source": [
    "# STEP 2"
   ]
  },
  {
   "cell_type": "markdown",
   "id": "7bf01bea",
   "metadata": {},
   "source": [
    "## Data Pre-Processing\n",
    "For preprocessing the images, the first step that is taken is to resize the images in the dataset into the same size which in the article was 600x600 pixels. \n",
    "\n",
    "The next step was to begin color normalization since the images were taken by different camera models which means that images can have distinct color temperatures and illumination so normalizing these colors can help reduce noise and variance and make the images more similar. \n",
    "\n",
    "In short this is done by getting the average value of red, blue, and green pixels in an image. Then median filtering is done which is used when trying to find and differentiate the features of an image such as the edges or discontinuities. \n",
    "\n",
    "The next step of pre-processing is using CLAHE, or Contrast Limited Adaptive Histogram Equalization, which helps deblur the image and remove noise from the image through local contrast enhancement which the images are now ready for optical disk segmentation."
   ]
  },
  {
   "cell_type": "code",
   "execution_count": null,
   "id": "1b2d598a-0a89-4674-ac39-2f2eeda54c17",
   "metadata": {},
   "outputs": [],
   "source": [
    "# # preprocessing and augmentation\n",
    "# # resizing images to 600x600\n",
    "\n",
    "# img_count = 0\n",
    "# i = 0\n",
    "\n",
    "# # load image directory\n",
    "# img_dir = \"data/labeled_data\"\n",
    "\n",
    "# # iterate through labeled folders\n",
    "# for i in range(5):\n",
    "#     n_img_dir = img_dir + \"/\" + str(i)\n",
    "    \n",
    "#     # directory exists\n",
    "#     if (os.path.isdir(n_img_dir)):\n",
    "        \n",
    "#         # iterate through images\n",
    "#         for img in os.listdir(n_img_dir):\n",
    "            \n",
    "#             # check the file extension\n",
    "#             if (img.endswith(\".jpeg\")):\n",
    "                \n",
    "#                 # load image\n",
    "#                 r_img = Image.open(n_img_dir + \"\\\\\" + img)\n",
    "            \n",
    "#                 # image successfully loaded; perform transformations\n",
    "#                 r_img = r_img.resize((600, 600))\n",
    "                \n",
    "#                 #r_img.show()"
   ]
  },
  {
   "cell_type": "code",
   "execution_count": null,
   "id": "2ad9f526-b583-4a61-a752-fe3b632bb6d3",
   "metadata": {},
   "outputs": [],
   "source": [
    "# https://stackoverflow.com/questions/34966541/how-can-one-display-an-image-using-cv2-in-python\n",
    "import cv2\n",
    "import numpy as np\n",
    "\n",
    "labeled_folder_0_dir = \"data/labeled_data/0/\"  # filepath for 0 severity image folder\n",
    "\n",
    "image = cv2.imread(labeled_folder_0_dir + \"10626_right.jpeg\")  # retrieves the spcific img called 1061_right.jpeg and sets it to image object chose this image because it has high amount of glare\n",
    "image = cv2.resize(image, (600,600))  # resizes image object to 600 x 600\n",
    "image = cv2.cvtColor(image, cv2.COLOR_BGR2RGB)  # cv2 reads in images as BGG so we convert the image to rgb\n",
    "(R,G,B) = (cv2.mean(image[0]), cv2.mean(image[1]), cv2.mean(image[2]))  # R, G, B = mean values of each channel\n",
    "\n",
    "# open the original image\n",
    "img = Image.open(\"data/labeled_data/0/10626_right.jpeg\")\n",
    "img.show()\n",
    "\n",
    "# iterate through all the pixels in the image\n",
    "for x in range(600):\n",
    "    for y in range(600):\n",
    "        \n",
    "        # find and assign the rgb values of the image\n",
    "        (r,g,b) = image[x,y]\n",
    "        \n",
    "        # if either r and the mean are 0s, the pixel value should still be 0\n",
    "        if not R[0]: \n",
    "            new_r = 0\n",
    "        else: \n",
    "        # otherwise, divide the channel value by the image's average and scale to colorspace\n",
    "            new_r = r/R[0] * 255\n",
    "        if not G[0]: \n",
    "            new_g = 0\n",
    "        else: \n",
    "            new_g = g/G[0] * 255\n",
    "        if not B[0]: \n",
    "            new_b = 0\n",
    "        else: \n",
    "            new_b = b/B[0] * 255\n",
    "        \n",
    "        image[x,y][0] = new_r\n",
    "        image[x,y][1] = new_g\n",
    "        image[x,y][2] = new_b\n",
    "\n",
    "plt.imshow(image)\n",
    "cv2.imwrite(\"10626_right.jpeg\", image)\n"
   ]
  },
  {
   "cell_type": "markdown",
   "id": "41339196",
   "metadata": {},
   "source": [
    "**Function for color normalization**"
   ]
  },
  {
   "cell_type": "code",
   "execution_count": null,
   "id": "643d162f",
   "metadata": {},
   "outputs": [],
   "source": [
    "# https://stackoverflow.com/questions/34966541/how-can-one-display-an-image-using-cv2-in-python\n",
    "\n",
    "def color_normalize(image):\n",
    "    image = cv2.cvtColor(image, cv2.COLOR_BGR2RGB)  # cv2 reads in images as BGG so we convert the image to rgb\n",
    "    (R,G,B) = (cv2.mean(image[0]), cv2.mean(image[1]), cv2.mean(image[2]))  # R, G, B = mean values of each channel\n",
    "\n",
    "    # iterate through all the pixels in the image\n",
    "    for x in range(600):\n",
    "        for y in range(600):\n",
    "\n",
    "            # find and assign the rgb values of the image\n",
    "            (r,g,b) = image[x,y]\n",
    "\n",
    "            # if either r and the mean are 0s, the pixel value should still be 0\n",
    "            if not R[0]: \n",
    "                new_r = 0\n",
    "            else: \n",
    "            # otherwise, divide the channel value by the image's average and scale to colorspace\n",
    "                new_r = r/R[0] * 255\n",
    "            if not G[0]: \n",
    "                new_g = 0\n",
    "            else: \n",
    "                new_g = g/G[0] * 255\n",
    "            if not B[0]: \n",
    "                new_b = 0\n",
    "            else: \n",
    "                new_b = b/B[0] * 255\n",
    "\n",
    "            image[x,y][0] = new_r\n",
    "            image[x,y][1] = new_g\n",
    "            image[x,y][2] = new_b\n",
    "\n",
    "    plt.imshow(image)\n",
    "    \n",
    "    return image"
   ]
  },
  {
   "cell_type": "markdown",
   "id": "eec6f7e4",
   "metadata": {},
   "source": [
    "**Example of using color normalization function**"
   ]
  },
  {
   "cell_type": "code",
   "execution_count": null,
   "id": "44aebd88",
   "metadata": {},
   "outputs": [],
   "source": [
    "# https://stackoverflow.com/questions/34966541/how-can-one-display-an-image-using-cv2-in-python\n",
    "import cv2\n",
    "import numpy as np\n",
    "\n",
    "labeled_folder_0_dir = \"data/labeled_data/0/\"  # filepath for 0 severity image folder\n",
    "\n",
    "image = cv2.imread(labeled_folder_0_dir + \"10626_right.jpeg\")  # retrieves the spcific img called 1061_right.jpeg and sets it to image object chose this image because it has high amount of glare\n",
    "image = cv2.resize(image, (600,600))  # resizes image object to 600 x 600\n",
    "\n",
    "color_normalize(image)"
   ]
  },
  {
   "cell_type": "markdown",
   "id": "51c76a2a",
   "metadata": {},
   "source": [
    "## Median Filtering"
   ]
  },
  {
   "cell_type": "code",
   "execution_count": null,
   "id": "49dddd60",
   "metadata": {},
   "outputs": [],
   "source": [
    "# Import OpenCV and numpy\n",
    "# Need to install this in terminal: pip install opencv-python\n",
    "import cv2\n",
    "import numpy as np"
   ]
  },
  {
   "cell_type": "code",
   "execution_count": null,
   "id": "23612103",
   "metadata": {},
   "outputs": [],
   "source": [
    "# Implement median filtering\n",
    "import cv2\n",
    "import matplotlib.pyplot as plt\n",
    "\n",
    "# Test median filtering for one image to see if it works properly\n",
    "img = cv2.imread('data/labeled_data/0/10_left.jpeg')\n",
    "median = cv2.medianBlur(img, 5)\n",
    "\n",
    "# Show modified image\n",
    "plt.imshow(img)\n",
    "plt.show()"
   ]
  },
  {
   "cell_type": "code",
   "execution_count": null,
   "id": "b9e9e47d",
   "metadata": {},
   "outputs": [],
   "source": [
    "# Implement median filtering for all images in dataset\n",
    "# Use for loop from previous step which was resizing to 600x600\n",
    "\n",
    "# Load image directory\n",
    "img_dir = \"data/labeled_data\"\n",
    "\n",
    "# Iterate through labeled folders\n",
    "for i in range(5):\n",
    "    n_img_dir = img_dir + \"/\" + str(i)\n",
    "    print(n_img_dir)\n",
    "    \n",
    "    # Directory exists\n",
    "    if (os.path.isdir(n_img_dir)):\n",
    "        \n",
    "        # Iterate through images\n",
    "        for img in os.listdir(n_img_dir):\n",
    "            \n",
    "            # Check the file extension\n",
    "            if (img.endswith(\".jpeg\")):\n",
    "                print(img)\n",
    "                \n",
    "                # Load image            \n",
    "                img = cv2.imread(n_img_dir + \"/\" + img)\n",
    "                \n",
    "                # Median Filtering\n",
    "                median = cv2.medianBlur(img, 5)\n",
    "                \n",
    "                # Display original images\n",
    "                plt.title(\"Original\")\n",
    "                plt.imshow(img)\n",
    "                plt.show()\n",
    "                \n",
    "                # Display images with median filter\n",
    "                plt.title(\"Median Filter\")\n",
    "                plt.imshow(median)\n",
    "                plt.show()\n",
    "                \n",
    "                # Need to save images with median filter applied\n",
    "                \n",
    "            break # Remove break to apply median filter to all images\n"
   ]
  },
  {
   "cell_type": "markdown",
   "id": "a08540b7-2060-40b2-83e4-1de53539e3e5",
   "metadata": {},
   "source": [
    "## CLAHE\n",
    "This takes images and increases the contrast of it to make the image more visually appealing and easier to see the edges.\n",
    "\n",
    "[Article explaining how to code with CLAHE](https://www.geeksforgeeks.org/clahe-histogram-eqalization-opencv/#:~:text=CLAHE%20is%20a%20variant%20of,to%20remove%20the%20artificial%20boundaries.)\n",
    "\n",
    "[Another article explaining CLAHE](https://towardsdatascience.com/clahe-and-thresholding-in-python-3bf690303e40)"
   ]
  },
  {
   "cell_type": "code",
   "execution_count": null,
   "id": "5a2a0c2d-bc08-44be-86e6-1ebeb92eab42",
   "metadata": {},
   "outputs": [],
   "source": [
    "image = cv2.imread(\"data/labeled_data/0/10_left.jpeg\")  # gets the first image in the 0 folder and sets it to an image object\n",
    "image = cv2.resize(image, (600, 600))  # resizes the image to 600 x 600\n",
    "\n",
    "# This step from the tutorial should be redundent since we had already did median filtering and color normalization before\n",
    "image = cv2.medianBlur(image, 5) # Median filtering on image\n",
    "image_bw = cv2.cvtColor(image, cv2.COLOR_BGR2GRAY) # convert image to grayscale\n",
    "\n",
    "clahe = cv2.createCLAHE(clipLimit = 40) # creates CLAHE object; clip limit is threshold for contrast limiting and default is 40\n",
    "final_img = clahe.apply(image_bw) # applying CLAHE on image\n",
    " \n",
    "# Ordinary thresholding the same image\n",
    "_, ordinary_img = cv2.threshold(image_bw, 155, 255, cv2.THRESH_BINARY)\n",
    "\n",
    "plt.title(\"Original Image\")\n",
    "plt.imshow(image)\n",
    "plt.show()\n",
    "\n",
    "plt.title(\"Grayscale Image\")\n",
    "plt.imshow(image_bw)\n",
    "plt.show()\n",
    "\n",
    "plt.title(\"Ordinary Threshold\")\n",
    "plt.imshow(ordinary_img)\n",
    "plt.show()\n",
    "\n",
    "plt.title(\"Final Image\")\n",
    "plt.imshow(final_img)\n",
    "plt.show()"
   ]
  },
  {
   "cell_type": "markdown",
   "id": "21582c28",
   "metadata": {},
   "source": [
    "**Create CLAHE function to apply CLAHE to an image**"
   ]
  },
  {
   "cell_type": "code",
   "execution_count": null,
   "id": "eba6a120",
   "metadata": {},
   "outputs": [],
   "source": [
    "# Created CLAHE function that takes in a cv2 image object and returns an image object that can be shown with\n",
    "def clahe_function(image):\n",
    "    \n",
    "    # This step from the tutorial should be redundent since we had already did median filtering and color normalization before\n",
    "    # image = cv2.medianBlur(image, 5) # Median filtering on image\n",
    "    image_bw = cv2.cvtColor(image, cv2.COLOR_BGR2GRAY) # convert image to grayscale\n",
    "    \n",
    "    clahe = cv2.createCLAHE(clipLimit = 40) # creates CLAHE object; clip limit is threshold for contrast limiting and default is 40\n",
    "    final_img = clahe.apply(image_bw) # applying CLAHE on image\n",
    " \n",
    "    # Ordinary thresholding the same image\n",
    "    _, ordinary_img = cv2.threshold(image_bw, 155, 255, cv2.THRESH_BINARY)\n",
    "    return final_img"
   ]
  },
  {
   "cell_type": "markdown",
   "id": "1adc0a07",
   "metadata": {},
   "source": [
    "### Main Loop for Data Preprocessing\n",
    "\n",
    "**NOTE: Currently uses a test image**"
   ]
  },
  {
   "cell_type": "code",
   "execution_count": null,
   "id": "6e3088cb",
   "metadata": {},
   "outputs": [],
   "source": [
    "# Load image directory\n",
    "img_dir = \"data/labeled_data\"\n",
    "\n",
    "# Iterate through labeled folders\n",
    "for i in range(5):\n",
    "    n_img_dir = img_dir + \"/\" + str(i)\n",
    "    print(n_img_dir)\n",
    "    \n",
    "    # Directory exists\n",
    "    if (os.path.isdir(n_img_dir)):\n",
    "        \n",
    "        # Iterate through images\n",
    "        for img in os.listdir(n_img_dir):\n",
    "            \n",
    "            # Check the file extension\n",
    "            if (img.endswith(\".jpeg\")):\n",
    "                print(img)\n",
    "                \n",
    "                # Load image            \n",
    "                # img = cv2.imread(n_img_dir + \"/\" + img)\n",
    "                \n",
    "                # test image\n",
    "                labeled_folder_0_dir = \"data/labeled_data/0/\"  # filepath for 0 severity image folder\n",
    "                img = cv2.imread(labeled_folder_0_dir + \"10626_right.jpeg\")\n",
    "                plt.title(\"Original Image\")\n",
    "                plt.imshow(img)\n",
    "                plt.show()\n",
    "                \n",
    "                # Resize image object to 600 x 600\n",
    "                img = cv2.resize(img, (600,600))\n",
    "                plt.title(\"Resized Image\")\n",
    "                plt.imshow(img)\n",
    "                plt.show()\n",
    "                \n",
    "                # color normalize\n",
    "                img = color_normalize(img)\n",
    "                plt.title(\"Image with Color Normalization\")\n",
    "                plt.imshow(img)\n",
    "                plt.show()\n",
    "                \n",
    "                # Median Filtering\n",
    "                img = cv2.medianBlur(img, 5)\n",
    "                plt.title(\"Image with Median Filtering\")\n",
    "                plt.imshow(img)\n",
    "                plt.show()\n",
    "                \n",
    "                # CLAHE\n",
    "                img = clahe_function(img) # applying CLAHE on image\n",
    "                plt.title(\"Image with CLAHE\")\n",
    "                plt.imshow(img)\n",
    "                plt.show()\n",
    "                \n",
    "                # Need to save images with median filter applied\n",
    "                \n",
    "            break # Remove break to apply median filter to all images\n",
    "        break"
   ]
  },
  {
   "cell_type": "markdown",
   "id": "6ac91cb6",
   "metadata": {},
   "source": [
    "# STEP 3"
   ]
  },
  {
   "cell_type": "markdown",
   "id": "b4011945",
   "metadata": {},
   "source": [
    "## Optical Disk Segmentation\n",
    "The third step in this process is Optical Disk (OD) Segmentation. In this step, the RGP channels are changed to HSV channels, and the OD is identified by applying the Morphological closing method and contour filling. \n",
    "\n",
    "The former dilates the area of interest and removes the borders, while the latter fills in the gaps. Finally, the OD-segmented image can be obtained by subtracting the results of the second part from the results of the first part."
   ]
  },
  {
   "cell_type": "markdown",
   "id": "543991e5",
   "metadata": {},
   "source": [
    "# STEP 4"
   ]
  },
  {
   "cell_type": "markdown",
   "id": "54543ebc",
   "metadata": {},
   "source": [
    "## Split Images into 4 Quadrants\n",
    "The next step is to divide the images into four quadrants so that it is easier to view tiny-sized microaneurysms and other features that identify DR. \n",
    "\n",
    "First, each image was resized to 600x600 which is detailed in Step 2. However, the model is expecting images with an input size of 299x299, which is too small to discern between tiny features in the eye images and can result in the misidentification of microaneurysms. \n",
    "\n",
    "Therefore, these images are further cropped into four quadrants of size 300x300. Dividing the full image into four quadrants of 300x300 meet the input size criteria of the model while retaining the size of the original image to view tiny features more easily. Overall, cropping the eye images can help reduce misidentification of microaneurysms and signs of DR."
   ]
  },
  {
   "cell_type": "code",
   "execution_count": null,
   "id": "d53a58fc",
   "metadata": {},
   "outputs": [],
   "source": [
    "# Source: https://neuraspike.com/blog/split-and-manipulate-pixels-opencv/\n",
    "\n",
    "# Load the image, get it's special dimensions (width and height),\n",
    "# Then display the original image to our screen\n",
    "image = cv2.imread('data/labeled_data/0/10_left.jpeg')\n",
    "(h, w) = image.shape[:2]\n",
    "cv2.imshow('Original', image)\n",
    " \n",
    "# compute the center coordinate of the image\n",
    "(cX, cY) = (w // 2, h // 2)\n",
    "\n",
    "# crop the image into four parts which will be labelled as\n",
    "# top left, top right, bottom left, and bottom right.\n",
    "topLeft = image[0:cY, 0:cX]\n",
    "topRight = image[0:cY, cX:w]\n",
    "bottomLeft = image[cY:h, 0:cX]\n",
    "bottomRight = image[cY:h, cX:w]\n",
    " \n",
    "# visualize the cropped regions\n",
    "\n",
    "plt.imshow(topLeft)\n",
    "plt.show()\n",
    "plt.imshow(topRight)\n",
    "plt.show()\n",
    "plt.imshow(bottomLeft)\n",
    "plt.show()\n",
    "plt.imshow(bottomRight)\n",
    "plt.show()\n",
    "\n",
    "# cv2.imshow(\"Top Left Corner\", topLeft)\n",
    "# cv2.imshow(\"Top Right Corner\", topRight)\n",
    "# cv2.imshow(\"Bottom Right Corner\", bottomLeft)\n",
    "# cv2.imshow(\"Bottom Left Corner\", bottomRight)\n",
    "# cv2.waitKey(0)"
   ]
  },
  {
   "cell_type": "markdown",
   "id": "cf02bada",
   "metadata": {},
   "source": [
    "# STEP 5"
   ]
  },
  {
   "cell_type": "markdown",
   "id": "9ef71e20",
   "metadata": {},
   "source": [
    "## Data Augmentation\n",
    "After the images are split into four quadrants, there are three main methods to augment the data. These steps include flipping (horizontal and vertical), 90–180° random rotation, and random zooming that ranges in between [0.85, 1.15]. The purpose of data augmentation in this step is to expand the training samples and strengthen the size of the class. Also, the combination of preprocessing and data augmentation makes the neural network insusceptible to variation attenuation, insufficient illumination, and changing orientations."
   ]
  },
  {
   "cell_type": "markdown",
   "id": "b8919fd1",
   "metadata": {},
   "source": [
    "### Flipping (horizontal and vertical)"
   ]
  },
  {
   "cell_type": "code",
   "execution_count": null,
   "id": "af463823",
   "metadata": {},
   "outputs": [],
   "source": []
  },
  {
   "cell_type": "markdown",
   "id": "7e307458",
   "metadata": {},
   "source": [
    "### 90-180 degrees random rotation"
   ]
  },
  {
   "cell_type": "code",
   "execution_count": null,
   "id": "aa7f42ae",
   "metadata": {},
   "outputs": [],
   "source": [
    "# Source: http://crumbsofcode.com/rotating-images-python/\n",
    "import random\n",
    "\n",
    "img = Image.open('data/labeled_data/0/10_left.jpeg')\n",
    "plt.imshow(img)\n",
    "plt.show()\n",
    "\n",
    "rotate = random.randint(0, 360)  # Generates a random degree from 0 to 360\n",
    "output = img.rotate(rotate, expand=True)  # Rotates image to the selected amount\n",
    "# output.save(\"output%s.jpg\" % count)  # Saves Every Rotation\n",
    "\n",
    "plt.imshow(output)\n",
    "plt.show()\n"
   ]
  },
  {
   "cell_type": "markdown",
   "id": "833756ca",
   "metadata": {},
   "source": [
    "### Random zooming that ranges between 0.85-1.15"
   ]
  },
  {
   "cell_type": "code",
   "execution_count": null,
   "id": "d1ec5065",
   "metadata": {},
   "outputs": [],
   "source": []
  },
  {
   "cell_type": "markdown",
   "id": "564d5760",
   "metadata": {},
   "source": [
    "# STEP 6"
   ]
  },
  {
   "cell_type": "markdown",
   "id": "d4302377",
   "metadata": {},
   "source": [
    "## Data Feeding into InceptionResnet-V2 CNN Models"
   ]
  },
  {
   "cell_type": "markdown",
   "id": "a98396ab",
   "metadata": {},
   "source": [
    "### Load Data:"
   ]
  },
  {
   "cell_type": "code",
   "execution_count": 30,
   "id": "d027f2e8",
   "metadata": {},
   "outputs": [
    {
     "name": "stdout",
     "output_type": "stream",
     "text": [
      "Found 1000 files belonging to 6 classes.\n"
     ]
    }
   ],
   "source": [
    "import tensorflow.keras.utils\n",
    "# tf.keras.utils.image_dataset_from_directory(\n",
    "#     directory,\n",
    "#     labels=\"inferred\",\n",
    "#     label_mode=\"int\",\n",
    "#     class_names=None,\n",
    "#     color_mode=\"rgb\",\n",
    "#     batch_size=32,\n",
    "#     image_size=(256, 256),\n",
    "#     shuffle=True,\n",
    "#     seed=None,\n",
    "#     validation_split=None,\n",
    "#     subset=None,\n",
    "#     interpolation=\"bilinear\",\n",
    "#     follow_links=False,\n",
    "#     crop_to_aspect_ratio=False,\n",
    "#     **kwargs\n",
    "# )\n",
    "\n",
    "dataloader = tf.keras.utils.image_dataset_from_directory(data_dir, labels='inferred')"
   ]
  },
  {
   "cell_type": "markdown",
   "id": "8fce4f65",
   "metadata": {},
   "source": [
    "### Instantiate our model:"
   ]
  },
  {
   "cell_type": "code",
   "execution_count": 32,
   "id": "25736338",
   "metadata": {},
   "outputs": [
    {
     "ename": "ValueError",
     "evalue": "Unexpectedly found an instance of type `<class 'tensorflow.python.data.ops.dataset_ops.BatchDataset'>`. Expected a symbolic tensor instance.",
     "output_type": "error",
     "traceback": [
      "\u001b[1;31m---------------------------------------------------------------------------\u001b[0m",
      "\u001b[1;31mValueError\u001b[0m                                Traceback (most recent call last)",
      "\u001b[1;32m~\\AppData\\Local\\Temp/ipykernel_25340/4200257984.py\u001b[0m in \u001b[0;36m<module>\u001b[1;34m\u001b[0m\n\u001b[0;32m     13\u001b[0m \u001b[1;31m# )\u001b[0m\u001b[1;33m\u001b[0m\u001b[1;33m\u001b[0m\u001b[0m\n\u001b[0;32m     14\u001b[0m \u001b[1;33m\u001b[0m\u001b[0m\n\u001b[1;32m---> 15\u001b[1;33m model = tf.keras.applications.InceptionResNetV2(\n\u001b[0m\u001b[0;32m     16\u001b[0m     \u001b[0minclude_top\u001b[0m \u001b[1;33m=\u001b[0m \u001b[1;32mTrue\u001b[0m\u001b[1;33m,\u001b[0m\u001b[1;33m\u001b[0m\u001b[1;33m\u001b[0m\u001b[0m\n\u001b[0;32m     17\u001b[0m     \u001b[0mweights\u001b[0m \u001b[1;33m=\u001b[0m \u001b[1;34m\"imagenet\"\u001b[0m\u001b[1;33m,\u001b[0m \u001b[1;31m#median frequency balancing?\u001b[0m\u001b[1;33m\u001b[0m\u001b[1;33m\u001b[0m\u001b[0m\n",
      "\u001b[1;32m~\\anaconda3\\lib\\site-packages\\keras\\applications\\inception_resnet_v2.py\u001b[0m in \u001b[0;36mInceptionResNetV2\u001b[1;34m(include_top, weights, input_tensor, input_shape, pooling, classes, classifier_activation, **kwargs)\u001b[0m\n\u001b[0;32m    139\u001b[0m     \u001b[0mimg_input\u001b[0m \u001b[1;33m=\u001b[0m \u001b[0mlayers\u001b[0m\u001b[1;33m.\u001b[0m\u001b[0mInput\u001b[0m\u001b[1;33m(\u001b[0m\u001b[0mshape\u001b[0m\u001b[1;33m=\u001b[0m\u001b[0minput_shape\u001b[0m\u001b[1;33m)\u001b[0m\u001b[1;33m\u001b[0m\u001b[1;33m\u001b[0m\u001b[0m\n\u001b[0;32m    140\u001b[0m   \u001b[1;32melse\u001b[0m\u001b[1;33m:\u001b[0m\u001b[1;33m\u001b[0m\u001b[1;33m\u001b[0m\u001b[0m\n\u001b[1;32m--> 141\u001b[1;33m     \u001b[1;32mif\u001b[0m \u001b[1;32mnot\u001b[0m \u001b[0mbackend\u001b[0m\u001b[1;33m.\u001b[0m\u001b[0mis_keras_tensor\u001b[0m\u001b[1;33m(\u001b[0m\u001b[0minput_tensor\u001b[0m\u001b[1;33m)\u001b[0m\u001b[1;33m:\u001b[0m\u001b[1;33m\u001b[0m\u001b[1;33m\u001b[0m\u001b[0m\n\u001b[0m\u001b[0;32m    142\u001b[0m       \u001b[0mimg_input\u001b[0m \u001b[1;33m=\u001b[0m \u001b[0mlayers\u001b[0m\u001b[1;33m.\u001b[0m\u001b[0mInput\u001b[0m\u001b[1;33m(\u001b[0m\u001b[0mtensor\u001b[0m\u001b[1;33m=\u001b[0m\u001b[0minput_tensor\u001b[0m\u001b[1;33m,\u001b[0m \u001b[0mshape\u001b[0m\u001b[1;33m=\u001b[0m\u001b[0minput_shape\u001b[0m\u001b[1;33m)\u001b[0m\u001b[1;33m\u001b[0m\u001b[1;33m\u001b[0m\u001b[0m\n\u001b[0;32m    143\u001b[0m     \u001b[1;32melse\u001b[0m\u001b[1;33m:\u001b[0m\u001b[1;33m\u001b[0m\u001b[1;33m\u001b[0m\u001b[0m\n",
      "\u001b[1;32m~\\anaconda3\\lib\\site-packages\\keras\\backend.py\u001b[0m in \u001b[0;36mis_keras_tensor\u001b[1;34m(x)\u001b[0m\n\u001b[0;32m   1295\u001b[0m                      \u001b[0mtf\u001b[0m\u001b[1;33m.\u001b[0m\u001b[0mSparseTensor\u001b[0m\u001b[1;33m,\u001b[0m \u001b[0mtf\u001b[0m\u001b[1;33m.\u001b[0m\u001b[0mRaggedTensor\u001b[0m\u001b[1;33m,\u001b[0m\u001b[1;33m\u001b[0m\u001b[1;33m\u001b[0m\u001b[0m\n\u001b[0;32m   1296\u001b[0m                      keras_tensor.KerasTensor)):\n\u001b[1;32m-> 1297\u001b[1;33m     raise ValueError('Unexpectedly found an instance of type `' + str(type(x)) +\n\u001b[0m\u001b[0;32m   1298\u001b[0m                      '`. Expected a symbolic tensor instance.')\n\u001b[0;32m   1299\u001b[0m   \u001b[1;32mif\u001b[0m \u001b[0mtf\u001b[0m\u001b[1;33m.\u001b[0m\u001b[0mcompat\u001b[0m\u001b[1;33m.\u001b[0m\u001b[0mv1\u001b[0m\u001b[1;33m.\u001b[0m\u001b[0mexecuting_eagerly_outside_functions\u001b[0m\u001b[1;33m(\u001b[0m\u001b[1;33m)\u001b[0m\u001b[1;33m:\u001b[0m\u001b[1;33m\u001b[0m\u001b[1;33m\u001b[0m\u001b[0m\n",
      "\u001b[1;31mValueError\u001b[0m: Unexpectedly found an instance of type `<class 'tensorflow.python.data.ops.dataset_ops.BatchDataset'>`. Expected a symbolic tensor instance."
     ]
    }
   ],
   "source": [
    "import tensorflow as tf\n",
    "from tensorflow.keras.applications import InceptionResNetV2\n",
    "\n",
    "# tf.keras.applications.InceptionResNetV2(\n",
    "#     include_top=True,\n",
    "#     weights=\"imagenet\",\n",
    "#     input_tensor=None,\n",
    "#     input_shape=None,\n",
    "#     pooling=None,\n",
    "#     classes=1000,\n",
    "#     classifier_activation=\"softmax\",\n",
    "#     **kwargs\n",
    "# )\n",
    "\n",
    "model = tf.keras.applications.InceptionResNetV2(\n",
    "    include_top = True,\n",
    "    weights = \"imagenet\", #median frequency balancing?\n",
    "    classes = 1000, #required 1000 for imagenet\n",
    "    classifier_activation = \"softmax\",\n",
    "    input_tensor = dataloader\n",
    ")\n",
    "\n",
    "type(model)"
   ]
  },
  {
   "cell_type": "markdown",
   "id": "970d1bab",
   "metadata": {},
   "source": [
    "# STEP 7"
   ]
  },
  {
   "cell_type": "markdown",
   "id": "392f13ff",
   "metadata": {},
   "source": [
    "## Depth Concatenation"
   ]
  },
  {
   "cell_type": "code",
   "execution_count": null,
   "id": "a49657f4",
   "metadata": {},
   "outputs": [],
   "source": []
  },
  {
   "cell_type": "markdown",
   "id": "44a17b4a",
   "metadata": {},
   "source": [
    "# STEP 8"
   ]
  },
  {
   "cell_type": "markdown",
   "id": "1453e22a",
   "metadata": {},
   "source": [
    "## Network Accuracy"
   ]
  },
  {
   "cell_type": "code",
   "execution_count": null,
   "id": "009530ef",
   "metadata": {},
   "outputs": [],
   "source": []
  },
  {
   "cell_type": "markdown",
   "id": "87a5032a",
   "metadata": {},
   "source": [
    "## Cross-entropy Loss Function"
   ]
  },
  {
   "cell_type": "code",
   "execution_count": null,
   "id": "d4199351",
   "metadata": {},
   "outputs": [],
   "source": []
  },
  {
   "cell_type": "markdown",
   "id": "07250cb6",
   "metadata": {},
   "source": [
    "## Time Complexity"
   ]
  },
  {
   "cell_type": "code",
   "execution_count": null,
   "id": "02f17afe",
   "metadata": {},
   "outputs": [],
   "source": []
  },
  {
   "cell_type": "markdown",
   "id": "dc6410fb",
   "metadata": {},
   "source": [
    "# STEP 9"
   ]
  },
  {
   "cell_type": "markdown",
   "id": "2dc595fb",
   "metadata": {},
   "source": [
    "## MESSIDOR Dataset"
   ]
  },
  {
   "cell_type": "code",
   "execution_count": null,
   "id": "ee099450",
   "metadata": {},
   "outputs": [],
   "source": []
  },
  {
   "cell_type": "markdown",
   "id": "aef5c716",
   "metadata": {},
   "source": [
    "# STEP 10"
   ]
  },
  {
   "cell_type": "markdown",
   "id": "d49cbdff",
   "metadata": {},
   "source": [
    "## Perform Validation using IDRiD Dataset"
   ]
  },
  {
   "cell_type": "code",
   "execution_count": null,
   "id": "d022384e",
   "metadata": {},
   "outputs": [],
   "source": []
  },
  {
   "cell_type": "markdown",
   "id": "57539966",
   "metadata": {},
   "source": [
    "## Load data using ImageFolder"
   ]
  },
  {
   "cell_type": "code",
   "execution_count": null,
   "id": "023d796a-28c5-4d1d-936b-f2eb34e5359d",
   "metadata": {},
   "outputs": [],
   "source": [
    "import torchvision\n",
    "import torchvision.transforms as transforms\n",
    "\n",
    "dataset = torchvision.datasets.ImageFolder(root=\"data/labeled_data\")\n",
    "dataset"
   ]
  },
  {
   "cell_type": "code",
   "execution_count": null,
   "id": "2147a84f",
   "metadata": {},
   "outputs": [],
   "source": [
    "from torchvision import datasets, transforms\n",
    "\n",
    "transform = transforms.Compose([\n",
    "    transforms.ToTensor(),\n",
    "    transforms.Resize((600, 600))\n",
    "])\n",
    "\n",
    "transform"
   ]
  }
 ],
 "metadata": {
  "colab": {
   "name": "Test.ipynb",
   "provenance": [],
   "toc_visible": true
  },
  "kernelspec": {
   "display_name": "Python 3 (ipykernel)",
   "language": "python",
   "name": "python3"
  },
  "language_info": {
   "codemirror_mode": {
    "name": "ipython",
    "version": 3
   },
   "file_extension": ".py",
   "mimetype": "text/x-python",
   "name": "python",
   "nbconvert_exporter": "python",
   "pygments_lexer": "ipython3",
   "version": "3.9.7"
  }
 },
 "nbformat": 4,
 "nbformat_minor": 5
}
