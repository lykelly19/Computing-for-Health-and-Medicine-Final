{
 "cells": [
  {
   "cell_type": "code",
   "execution_count": 26,
   "id": "3089d3e0-704c-4011-927e-a30465269f4c",
   "metadata": {},
   "outputs": [],
   "source": [
    "# sources\n",
    "# https://www.codegrepper.com/code-examples/python/random+pick+any+file+from+directory+python\n",
    "# samples from train.zip.001 and test.zip.001 ; make sure both are extracted to your directory"
   ]
  },
  {
   "cell_type": "code",
   "execution_count": 14,
   "id": "1f2e1a61-8ab9-4391-91f8-fda0c9d24efc",
   "metadata": {},
   "outputs": [],
   "source": [
    "import os\n",
    "import random\n",
    "from tqdm import tqdm, trange\n",
    "import shutil"
   ]
  },
  {
   "cell_type": "code",
   "execution_count": 24,
   "id": "e5fd9418-7194-4023-ac67-ad44069724e9",
   "metadata": {},
   "outputs": [
    {
     "name": "stderr",
     "output_type": "stream",
     "text": [
      "100%|██████████| 204/204 [00:05<00:00, 39.19it/s]"
     ]
    },
    {
     "name": "stdout",
     "output_type": "stream",
     "text": [
      "204\n"
     ]
    },
    {
     "name": "stderr",
     "output_type": "stream",
     "text": [
      "\n"
     ]
    }
   ],
   "source": [
    "# sample training data\n",
    "data_dir = os.getcwd()\n",
    "DATA_SIZE = 204\n",
    "count = 0\n",
    "try:\n",
    "    os.mkdir(data_dir + \"\\\\train_sample\")\n",
    "except:\n",
    "    pass\n",
    "\n",
    "dest_dir = data_dir + \"\\\\train_sample\"\n",
    "\n",
    "while(count < 200):\n",
    "    for i in tqdm(range(DATA_SIZE)):\n",
    "        file = random.choice(os.listdir(dir + \"\\\\train\"))\n",
    "        #print(file)\n",
    "        shutil.copyfile((data_dir + \"\\\\train\\\\\" + file), (data_dir + \"\\\\train_sample\\\\\" + file)) \n",
    "        count += 1\n",
    "\n",
    "print(count)"
   ]
  },
  {
   "cell_type": "code",
   "execution_count": 25,
   "id": "e08f6b55-cc26-4834-83d6-1541275cca7d",
   "metadata": {},
   "outputs": [
    {
     "name": "stderr",
     "output_type": "stream",
     "text": [
      "100%|██████████| 204/204 [00:07<00:00, 26.52it/s]\n"
     ]
    }
   ],
   "source": [
    "count = 0\n",
    "try:\n",
    "    os.mkdir(data_dir + \"\\\\test_sample\")\n",
    "except:\n",
    "    pass\n",
    "\n",
    "dest_dir = data_dir + \"\\\\test_sample\"\n",
    "\n",
    "while(count < 200):\n",
    "    for i in tqdm(range(DATA_SIZE)):\n",
    "        file = random.choice(os.listdir(dir + \"\\\\test\"))\n",
    "        #print(file)\n",
    "        shutil.copyfile((data_dir + \"\\\\test\\\\\" + file), (data_dir + \"\\\\test_sample\\\\\" + file)) \n",
    "        count += 1"
   ]
  },
  {
   "cell_type": "code",
   "execution_count": null,
   "id": "d99b0020-0cfd-4df2-aae1-becd79150308",
   "metadata": {},
   "outputs": [],
   "source": []
  }
 ],
 "metadata": {
  "kernelspec": {
   "display_name": "Python 3 (ipykernel)",
   "language": "python",
   "name": "python3"
  },
  "language_info": {
   "codemirror_mode": {
    "name": "ipython",
    "version": 3
   },
   "file_extension": ".py",
   "mimetype": "text/x-python",
   "name": "python",
   "nbconvert_exporter": "python",
   "pygments_lexer": "ipython3",
   "version": "3.9.7"
  }
 },
 "nbformat": 4,
 "nbformat_minor": 5
}
